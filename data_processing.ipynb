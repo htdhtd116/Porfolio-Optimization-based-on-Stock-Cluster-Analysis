{
 "cells": [
  {
   "cell_type": "code",
   "execution_count": 17,
   "metadata": {},
   "outputs": [],
   "source": [
    "import pandas as pd\n",
    "import numpy as np\n",
    "import matplotlib.pyplot as plt\n",
    "import seaborn as sns\n",
    "from ipywidgets import widgets, interactive\n",
    "import warnings\n",
    "from os import listdir\n",
    "from os.path import isfile, join\n",
    "warnings.filterwarnings(\"ignore\")\n",
    "plt.style.use('fivethirtyeight')\n",
    "# mypal = plt.rcParams['axes.prop_cycle'].by_key()['color'] # Grab the color pal\n",
    "pd.set_option('display.max_colwidth', None)\n",
    "pd.set_option('display.max_columns', None)\n",
    "my_colors = ['teal','firebrick','burlywood','royalblue','mediumpurple','goldenrod','darkgray','palevioletred']\n",
    "sns.set_palette(sns.color_palette(my_colors))"
   ]
  },
  {
   "cell_type": "markdown",
   "metadata": {},
   "source": [
    "#### Get the earliest year of which the data of all companies is captured"
   ]
  },
  {
   "cell_type": "code",
   "execution_count": 32,
   "metadata": {},
   "outputs": [
    {
     "data": {
      "text/plain": [
       "1998      1\n",
       "1999      2\n",
       "2000      5\n",
       "2001     11\n",
       "2002     16\n",
       "2003     34\n",
       "2004     61\n",
       "2005    124\n",
       "2006    193\n",
       "2007    252\n",
       "2008    301\n",
       "2009    308\n",
       "2010    314\n",
       "2011    325\n",
       "2012    335\n",
       "2013    348\n",
       "2014    371\n",
       "2015    386\n",
       "2016    397\n",
       "2017    402\n",
       "2018    407\n",
       "dtype: int64"
      ]
     },
     "execution_count": 32,
     "metadata": {},
     "output_type": "execute_result"
    }
   ],
   "source": [
    "#Balance sheet\n",
    "earliest_year = []\n",
    "companies_data = [f for f in listdir('data/balance sheet') if isfile(join('data/balance sheet', f))]\n",
    "for company in companies_data:\n",
    "    bs_df = pd.ExcelFile(f'data/balance sheet/{company}').parse(0).drop('Type',axis=1)\n",
    "    earliest_year.append(int(bs_df.columns[1][:4]))\n",
    "#Display the cumulative sum of number of companies by the earliest_year\n",
    "pd.Series(earliest_year).value_counts().sort_index().cumsum()"
   ]
  },
  {
   "cell_type": "code",
   "execution_count": 33,
   "metadata": {},
   "outputs": [
    {
     "data": {
      "text/plain": [
       "1998      1\n",
       "1999      2\n",
       "2000      5\n",
       "2001     11\n",
       "2002     16\n",
       "2003     34\n",
       "2004     61\n",
       "2005    124\n",
       "2006    193\n",
       "2007    252\n",
       "2008    301\n",
       "2009    308\n",
       "2010    314\n",
       "2011    325\n",
       "2012    335\n",
       "2013    348\n",
       "2014    371\n",
       "2015    386\n",
       "2016    397\n",
       "2017    402\n",
       "2018    407\n",
       "dtype: int64"
      ]
     },
     "execution_count": 33,
     "metadata": {},
     "output_type": "execute_result"
    }
   ],
   "source": [
    "#Financial ratios\n",
    "earliest_year = []\n",
    "companies_data = [f for f in listdir('data/financial ratios') if isfile(join('data/financial ratios', f))]\n",
    "for company in companies_data:\n",
    "    fr_df = pd.ExcelFile(f'data/financial ratios/{company}').parse(0).drop('Type',axis=1)\n",
    "    earliest_year.append(int(fr_df.columns[1][:4]))\n",
    "#Display the cumulative sum of number of companies by the earliest_year\n",
    "pd.Series(earliest_year).value_counts().sort_index().cumsum()"
   ]
  },
  {
   "cell_type": "markdown",
   "metadata": {},
   "source": [
    "- There are 386 companies that have available dataset from year 2015. "
   ]
  },
  {
   "cell_type": "markdown",
   "metadata": {},
   "source": [
    "#### Combine financial indicators and return/volatility of stocks from the year 2015 to 2021"
   ]
  },
  {
   "cell_type": "code",
   "execution_count": 315,
   "metadata": {},
   "outputs": [],
   "source": [
    "def fi_return_volatility(companies_data,year='2015'):\n",
    "    #Create a list to store the financial indicators data for all companies\n",
    "    fi_companies_data = []\n",
    "    #Create list of selective financial indicators\n",
    "    fi_features = ['Debt to equity','Dividend yield','EV/EBITDA','Net profit margin','ROA','Liabilities',\\\n",
    "        'Cash and cash equivalents','Net revenue','EBITDA/Net revenue','EBIT margin']\n",
    "    #Create dictionaries to store the return and price volatility of all companies\n",
    "    return_companies = {}\n",
    "    volatility_companies = {}\n",
    "    \n",
    "    #Loop through all the companies\n",
    "    for company in companies_data:\n",
    "        #Extract return and price volatility from price dataset of company and store it in the dictionaries created above\n",
    "        price_df = pd.ExcelFile(f'data/price/{company}').parse(0).drop([0,1]).rename(columns={'Attributes':'Date'})\n",
    "        price_df.set_index('Date',inplace=True)\n",
    "        try:\n",
    "            price_extracted = price_df.loc[f'{year}-01-01 00:00:00':f'{year}-12-31 00:00:00']['adjust']\n",
    "            return_companies[company] = np.round((price_extracted.tail(1).values[0] / price_extracted.head(1).values[0] - 1)*100,2)\n",
    "            volatility_companies[company] = np.round(price_extracted.std(),2)\n",
    "        except:\n",
    "            pass\n",
    "    \n",
    "    #Loop through all the companies that have available dataset in the return dictionaries\n",
    "    for company in list(return_companies.keys()):\n",
    "        #Extract the name of company\n",
    "        company_name = company.replace('.xlsx','').strip()\n",
    "        #Load the dataset from balance sheet and financial ratios of company \n",
    "        bs_df = pd.ExcelFile(f'data/balance sheet/{company}').parse(0).drop('Type',axis=1)\n",
    "        bs_df.columns = ['Ratios'] + [year[:4] for year in bs_df.columns[1:]]\n",
    "        fr_df = pd.ExcelFile(f'data/financial ratios/{company}').parse(0).drop('Type',axis=1)\n",
    "        try:\n",
    "            #Extract data from balance sheet and financial ratios by year\n",
    "            bs_extracted = bs_df.copy()[['Ratios',year]]\n",
    "            bs_extracted = bs_extracted.set_index('Ratios').T\n",
    "            bs_extracted.reset_index(drop=True,inplace=True)\n",
    "            bs_extracted.columns.name = None\n",
    "            \n",
    "            fr_extracted = fr_df.copy()[['Ratios',year]]\n",
    "            fr_extracted = fr_extracted.set_index('Ratios').T\n",
    "            fr_extracted.reset_index(drop=True,inplace=True)\n",
    "            fr_extracted.columns.name = None\n",
    "\n",
    "            #Merge data from balance sheet and financial ratios into a dataframe\n",
    "            fi_extracted = pd.merge(bs_extracted,fr_extracted,left_index=True,right_index=True,suffixes=('', '_y'))\n",
    "            fi_extracted.drop(fi_extracted.filter(regex='_y$').columns, axis=1, inplace=True)\n",
    "            #Extract the selective financial indicators and create new features\n",
    "            fi_extracted = fi_extracted[fi_features]\n",
    "            fi_extracted['Net debt to EBITDA'] = (fi_extracted['Liabilities']-fi_extracted['Cash and cash equivalents'])/(fi_extracted['Net revenue']*(fi_extracted['EBITDA/Net revenue']/100))*100\n",
    "            fi_extracted['Net debt to EBITDA'] = fi_extracted['Net debt to EBITDA'].apply(lambda x:np.round(x,2))\n",
    "            fi_extracted.rename(columns={'EBIT margin':'Operating profit margin'},inplace=True)\n",
    "            fi_extracted.insert(column='Company',value=company_name,loc=0)\n",
    "            fi_extracted.drop(['Liabilities','Cash and cash equivalents','EBITDA/Net revenue','Net revenue'],axis=1,inplace=True)\n",
    "            fi_extracted['Return'] = return_companies[company]\n",
    "            fi_extracted['Volatility'] = volatility_companies[company]\n",
    "\n",
    "            #Append the completed dataset of financial indicators of company to the list that stores the financial indicators data for all companies \n",
    "            fi_companies_data.append(fi_extracted)\n",
    "        except:\n",
    "            pass\n",
    "    \n",
    "    #Return the dataframe that contains the financial indicators data of all companies in selective year\n",
    "    return pd.concat(fi_companies_data).reset_index(drop=True)"
   ]
  },
  {
   "cell_type": "code",
   "execution_count": 316,
   "metadata": {},
   "outputs": [
    {
     "name": "stdout",
     "output_type": "stream",
     "text": [
      "Done\n",
      "Done\n",
      "Done\n",
      "Done\n",
      "Done\n",
      "Done\n",
      "Done\n"
     ]
    }
   ],
   "source": [
    "#Get the financial indicators data of all companies from the year 2015 to the year 2021\n",
    "df_2015 = fi_return_volatility(companies_data,year='2015')\n",
    "print('Done')\n",
    "df_2016 = fi_return_volatility(companies_data,year='2016')\n",
    "print('Done')\n",
    "df_2017 = fi_return_volatility(companies_data,year='2017')\n",
    "print('Done')\n",
    "df_2018 = fi_return_volatility(companies_data,year='2018')\n",
    "print('Done')\n",
    "df_2019 = fi_return_volatility(companies_data,year='2019')\n",
    "print('Done')\n",
    "df_2020 = fi_return_volatility(companies_data,year='2020')\n",
    "print('Done')\n",
    "df_2021 = fi_return_volatility(companies_data,year='2021')\n",
    "print('Done')"
   ]
  },
  {
   "cell_type": "markdown",
   "metadata": {},
   "source": [
    "#### Homogenize the number of companies between years"
   ]
  },
  {
   "cell_type": "code",
   "execution_count": 335,
   "metadata": {},
   "outputs": [],
   "source": [
    "all_companies_list = [list(df_2015['Company'].values),list(df_2016['Company'].values),list(df_2017['Company'].values),list(df_2018['Company'].values),\\\n",
    "    list(df_2019['Company'].values),list(df_2020['Company'].values),list(df_2021['Company'].values)]\n",
    "final_companies_list = list(set.intersection(*map(set,all_companies_list)))"
   ]
  },
  {
   "cell_type": "code",
   "execution_count": 339,
   "metadata": {},
   "outputs": [],
   "source": [
    "df_2015 = df_2015[df_2015['Company'].isin(final_companies_list)].reset_index(drop=True)\n",
    "df_2016 = df_2016[df_2016['Company'].isin(final_companies_list)].reset_index(drop=True)\n",
    "df_2017 = df_2017[df_2017['Company'].isin(final_companies_list)].reset_index(drop=True)\n",
    "df_2018 = df_2018[df_2018['Company'].isin(final_companies_list)].reset_index(drop=True)\n",
    "df_2019 = df_2019[df_2019['Company'].isin(final_companies_list)].reset_index(drop=True)\n",
    "df_2020 = df_2020[df_2020['Company'].isin(final_companies_list)].reset_index(drop=True)\n",
    "df_2021 = df_2021[df_2021['Company'].isin(final_companies_list)].reset_index(drop=True)"
   ]
  },
  {
   "cell_type": "markdown",
   "metadata": {},
   "source": [
    "#### Save completed dataset"
   ]
  },
  {
   "cell_type": "code",
   "execution_count": 356,
   "metadata": {},
   "outputs": [],
   "source": [
    "writer = pd.ExcelWriter('data/FinancialIndicator_Return_Volatility.xlsx', engine='xlsxwriter')\n",
    "df_2015.to_excel(writer,index=False,sheet_name='2015')\n",
    "df_2016.to_excel(writer,index=False,sheet_name='2016')\n",
    "df_2017.to_excel(writer,index=False,sheet_name='2017')\n",
    "df_2018.to_excel(writer,index=False,sheet_name='2018')\n",
    "df_2019.to_excel(writer,index=False,sheet_name='2019')\n",
    "df_2020.to_excel(writer,index=False,sheet_name='2020')\n",
    "df_2021.to_excel(writer,index=False,sheet_name='2021')\n",
    "writer.save()\n",
    "writer.close()"
   ]
  }
 ],
 "metadata": {
  "kernelspec": {
   "display_name": "Python 3 (ipykernel)",
   "language": "python",
   "name": "python3"
  },
  "language_info": {
   "codemirror_mode": {
    "name": "ipython",
    "version": 3
   },
   "file_extension": ".py",
   "mimetype": "text/x-python",
   "name": "python",
   "nbconvert_exporter": "python",
   "pygments_lexer": "ipython3",
   "version": "3.9.7"
  },
  "vscode": {
   "interpreter": {
    "hash": "27fc039f5f8def17f1db4787abd03124ed8adbe3f3a3dc74a1e6843af239f8f0"
   }
  }
 },
 "nbformat": 4,
 "nbformat_minor": 2
}
