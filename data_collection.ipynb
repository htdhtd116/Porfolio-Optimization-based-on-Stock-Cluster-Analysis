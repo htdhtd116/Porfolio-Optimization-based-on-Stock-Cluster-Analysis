{
 "cells": [
  {
   "cell_type": "code",
   "execution_count": 1,
   "metadata": {},
   "outputs": [],
   "source": [
    "import pandas as pd\n",
    "import numpy as np\n",
    "import matplotlib.pyplot as plt\n",
    "import seaborn as sns\n",
    "import unidecode\n",
    "import warnings\n",
    "warnings.filterwarnings(\"ignore\")\n",
    "plt.style.use('fivethirtyeight')\n",
    "mypal = plt.rcParams['axes.prop_cycle'].by_key()['color'] # Grab the color pal\n",
    "pd.set_option('display.max_colwidth', None)\n",
    "pd.set_option('display.max_columns', None)\n",
    "from vnstock_data.all_exchange import  VnStock\n",
    "from vnstock_data.hose import Hose"
   ]
  },
  {
   "cell_type": "code",
   "execution_count": 2,
   "metadata": {},
   "outputs": [],
   "source": [
    "#Cookies from Vietstock\n",
    "COOKIES={\"vts_usr_lg\":\"F04822DD048B33988AFCDB54A42F3C2D389B6E63D4BF5AC363647761C666A3AC27C240827A34755B2E07509E7545E79B54EA269957A4F9D27152A8F19069EAAB480F13AF7353F41A9B749FC9AF48C5EDBACAD234F4DF316483799A03400FB29BF5006EC4B21B028C1A125A14C09D465115C44A9A537013DDD8E232DCF62ABA65\",\"language\": \"en-US\",\"__RequestVerificationToken\":\"KQnA6F6qpzrb-Li9C_fxL2jkCkpjxkF1cc9W2vO4dT43H-jVnTV0VOL-89Q0GLGkJ8TJ3K4NLRT9n8d-uEf2lFknYB_MmIcgHe0ucRTFvSk1\"}"
   ]
  },
  {
   "cell_type": "code",
   "execution_count": 3,
   "metadata": {},
   "outputs": [],
   "source": [
    "#Init instance\n",
    "vndata = VnStock(COOKIES)"
   ]
  },
  {
   "cell_type": "markdown",
   "metadata": {},
   "source": [
    "#### Get all companies listing on HOSE exchange info"
   ]
  },
  {
   "cell_type": "code",
   "execution_count": 4,
   "metadata": {},
   "outputs": [
    {
     "data": {
      "text/html": [
       "<div>\n",
       "<style scoped>\n",
       "    .dataframe tbody tr th:only-of-type {\n",
       "        vertical-align: middle;\n",
       "    }\n",
       "\n",
       "    .dataframe tbody tr th {\n",
       "        vertical-align: top;\n",
       "    }\n",
       "\n",
       "    .dataframe thead th {\n",
       "        text-align: right;\n",
       "    }\n",
       "</style>\n",
       "<table border=\"1\" class=\"dataframe\">\n",
       "  <thead>\n",
       "    <tr style=\"text-align: right;\">\n",
       "      <th></th>\n",
       "      <th>Code</th>\n",
       "      <th>Name</th>\n",
       "      <th>IndustryName</th>\n",
       "      <th>TotalShares</th>\n",
       "    </tr>\n",
       "  </thead>\n",
       "  <tbody>\n",
       "    <tr>\n",
       "      <th>0</th>\n",
       "      <td>AAA</td>\n",
       "      <td>An Phat Bioplastics JSC</td>\n",
       "      <td>Plastics and Rubber</td>\n",
       "      <td>326434496</td>\n",
       "    </tr>\n",
       "    <tr>\n",
       "      <th>1</th>\n",
       "      <td>AAM</td>\n",
       "      <td>Mekong Fisheries Joint Stock Company</td>\n",
       "      <td>Food Manufacturing</td>\n",
       "      <td>12346411</td>\n",
       "    </tr>\n",
       "    <tr>\n",
       "      <th>2</th>\n",
       "      <td>AAT</td>\n",
       "      <td>Tien Son Thanh Hoa Group JSC</td>\n",
       "      <td>Merchant Wholesalers, Nondurable Goods</td>\n",
       "      <td>63801489</td>\n",
       "    </tr>\n",
       "    <tr>\n",
       "      <th>3</th>\n",
       "      <td>ABR</td>\n",
       "      <td>Viet Brand Invest JSC</td>\n",
       "      <td>Merchant Wholesalers, Nondurable Goods</td>\n",
       "      <td>20000000</td>\n",
       "    </tr>\n",
       "    <tr>\n",
       "      <th>4</th>\n",
       "      <td>ABS</td>\n",
       "      <td>BinhThuan Agriculture Services JSC</td>\n",
       "      <td>Merchant Wholesalers, Nondurable Goods</td>\n",
       "      <td>80000000</td>\n",
       "    </tr>\n",
       "    <tr>\n",
       "      <th>...</th>\n",
       "      <td>...</td>\n",
       "      <td>...</td>\n",
       "      <td>...</td>\n",
       "      <td>...</td>\n",
       "    </tr>\n",
       "    <tr>\n",
       "      <th>410</th>\n",
       "      <td>VSI</td>\n",
       "      <td>Water Supply Sewerage Contruction &amp; Invesment,.  JSC</td>\n",
       "      <td>Heavy and Civil Engineering Construction</td>\n",
       "      <td>13200000</td>\n",
       "    </tr>\n",
       "    <tr>\n",
       "      <th>411</th>\n",
       "      <td>VTB</td>\n",
       "      <td>Viettronics Tan Binh JSC</td>\n",
       "      <td>Computer and Electronic Product</td>\n",
       "      <td>11982050</td>\n",
       "    </tr>\n",
       "    <tr>\n",
       "      <th>412</th>\n",
       "      <td>VTO</td>\n",
       "      <td>Viet Nam Tanker Joint Stock Company</td>\n",
       "      <td>Water Transportation</td>\n",
       "      <td>79866666</td>\n",
       "    </tr>\n",
       "    <tr>\n",
       "      <th>413</th>\n",
       "      <td>YBM</td>\n",
       "      <td>Yen Bai Industry Mineral JSC</td>\n",
       "      <td>Nonmetallic Mineral Product</td>\n",
       "      <td>14299880</td>\n",
       "    </tr>\n",
       "    <tr>\n",
       "      <th>414</th>\n",
       "      <td>YEG</td>\n",
       "      <td>Yeah1 Group Corporation</td>\n",
       "      <td>Advertising, Public Relations and Related Services</td>\n",
       "      <td>31279968</td>\n",
       "    </tr>\n",
       "  </tbody>\n",
       "</table>\n",
       "<p>415 rows × 4 columns</p>\n",
       "</div>"
      ],
      "text/plain": [
       "    Code                                                  Name  \\\n",
       "0    AAA                               An Phat Bioplastics JSC   \n",
       "1    AAM                  Mekong Fisheries Joint Stock Company   \n",
       "2    AAT                          Tien Son Thanh Hoa Group JSC   \n",
       "3    ABR                                 Viet Brand Invest JSC   \n",
       "4    ABS                    BinhThuan Agriculture Services JSC   \n",
       "..   ...                                                   ...   \n",
       "410  VSI  Water Supply Sewerage Contruction & Invesment,.  JSC   \n",
       "411  VTB                              Viettronics Tan Binh JSC   \n",
       "412  VTO                   Viet Nam Tanker Joint Stock Company   \n",
       "413  YBM                          Yen Bai Industry Mineral JSC   \n",
       "414  YEG                               Yeah1 Group Corporation   \n",
       "\n",
       "                                            IndustryName  TotalShares  \n",
       "0                                    Plastics and Rubber    326434496  \n",
       "1                                     Food Manufacturing     12346411  \n",
       "2                 Merchant Wholesalers, Nondurable Goods     63801489  \n",
       "3                 Merchant Wholesalers, Nondurable Goods     20000000  \n",
       "4                 Merchant Wholesalers, Nondurable Goods     80000000  \n",
       "..                                                   ...          ...  \n",
       "410             Heavy and Civil Engineering Construction     13200000  \n",
       "411                      Computer and Electronic Product     11982050  \n",
       "412                                 Water Transportation     79866666  \n",
       "413                          Nonmetallic Mineral Product     14299880  \n",
       "414   Advertising, Public Relations and Related Services     31279968  \n",
       "\n",
       "[415 rows x 4 columns]"
      ]
     },
     "execution_count": 4,
     "metadata": {},
     "output_type": "execute_result"
    }
   ],
   "source": [
    "#Get dataframe contains company name, ticker, industry and total share \n",
    "hose = Hose(COOKIES)\n",
    "hose.all_company_info(basic=False)"
   ]
  },
  {
   "cell_type": "code",
   "execution_count": 5,
   "metadata": {},
   "outputs": [],
   "source": [
    "#Extract lists of company ticker and company name\n",
    "ticker_list = list(hose.all_company_info(basic=False)['Code'].values)\n",
    "name_list = list(hose.all_company_info(basic=False)['Name'].values)"
   ]
  },
  {
   "cell_type": "markdown",
   "metadata": {},
   "source": [
    "#### Download financial indicators of stocks"
   ]
  },
  {
   "cell_type": "code",
   "execution_count": 15,
   "metadata": {},
   "outputs": [
    {
     "name": "stdout",
     "output_type": "stream",
     "text": [
      "Got 10 company\n",
      "Got 20 company\n",
      "Got 30 company\n",
      "Got 40 company\n",
      "Got 50 company\n",
      "Got 60 company\n",
      "Got 70 company\n",
      "Got 80 company\n",
      "Got 90 company\n",
      "Got 100 company\n",
      "Got 110 company\n",
      "Got 120 company\n",
      "Got 130 company\n",
      "Got 140 company\n",
      "Got 150 company\n",
      "Got 160 company\n",
      "Got 170 company\n",
      "Got 180 company\n",
      "Got 190 company\n",
      "Got 200 company\n",
      "Got 210 company\n",
      "Got 220 company\n",
      "Got 230 company\n",
      "Got 240 company\n",
      "Got 250 company\n",
      "Got 260 company\n",
      "Got 270 company\n",
      "Got 280 company\n",
      "Got 290 company\n",
      "Got 300 company\n",
      "Got 310 company\n",
      "Got 320 company\n",
      "Got 330 company\n",
      "Got 340 company\n",
      "Got 350 company\n",
      "Got 360 company\n",
      "Got 370 company\n",
      "Got 380 company\n",
      "Got 390 company\n",
      "Got 400 company\n",
      "Got 410 company\n"
     ]
    }
   ],
   "source": [
    "#Get condensed balance sheet\n",
    "for i in range(len(ticker_list)):\n",
    "    try:\n",
    "        bs = vndata.condensed_balance_sheet(ticker_list[i])\n",
    "        bs.to_excel(f'data/balance sheet/{name_list[i]}.xlsx')\n",
    "    except:\n",
    "        pass\n",
    "    if (i+1) % 10 == 0:\n",
    "        print(f'Got {i+1} company')"
   ]
  },
  {
   "cell_type": "code",
   "execution_count": 6,
   "metadata": {},
   "outputs": [
    {
     "name": "stdout",
     "output_type": "stream",
     "text": [
      "Got 10 company\n",
      "Got 20 company\n",
      "Got 30 company\n",
      "Got 40 company\n",
      "Got 50 company\n",
      "Got 60 company\n",
      "Got 70 company\n",
      "Got 80 company\n",
      "Got 90 company\n",
      "Got 100 company\n",
      "Got 110 company\n",
      "Got 120 company\n",
      "Got 130 company\n",
      "Got 140 company\n",
      "Got 150 company\n",
      "Got 160 company\n",
      "Got 170 company\n",
      "Got 180 company\n",
      "Got 190 company\n",
      "Got 200 company\n",
      "Got 210 company\n",
      "Got 220 company\n",
      "Got 230 company\n",
      "Got 240 company\n",
      "Got 250 company\n",
      "Got 260 company\n",
      "Got 270 company\n",
      "Got 280 company\n",
      "Got 290 company\n",
      "Got 300 company\n",
      "Got 310 company\n",
      "Got 320 company\n",
      "Got 330 company\n",
      "Got 340 company\n",
      "Got 350 company\n",
      "Got 360 company\n",
      "Got 370 company\n",
      "Got 380 company\n",
      "Got 390 company\n",
      "Got 400 company\n",
      "Got 410 company\n"
     ]
    }
   ],
   "source": [
    "#Get financial ratios\n",
    "for i in range(len(ticker_list)):\n",
    "    try:\n",
    "        fr = vndata.financial_ratios(ticker_list[i])\n",
    "        # fr.to_excel(f'data/financial ratios/{name_list[i]}.xlsx')\n",
    "    except:\n",
    "        pass\n",
    "    if (i+1) % 10 == 0:\n",
    "        print(f'Got {i+1} company')"
   ]
  },
  {
   "cell_type": "markdown",
   "metadata": {},
   "source": [
    "#### Download stock price data"
   ]
  },
  {
   "cell_type": "code",
   "execution_count": null,
   "metadata": {},
   "outputs": [],
   "source": [
    "# !git clone https://github.com/phamdinhkhanh/vnquant\n",
    "# %cd vnquant\n",
    "# !python setup.py install"
   ]
  },
  {
   "cell_type": "code",
   "execution_count": 17,
   "metadata": {},
   "outputs": [
    {
     "name": "stderr",
     "output_type": "stream",
     "text": [
      "2022-06-18 02:34:48,802 : INFO : data AAA from 2015-01-01 to 2022-02-01 have already cloned!\n"
     ]
    },
    {
     "name": "stdout",
     "output_type": "stream",
     "text": [
      "Got 1 company\n"
     ]
    },
    {
     "name": "stderr",
     "output_type": "stream",
     "text": [
      "2022-06-18 02:35:15,427 : INFO : data AAM from 2015-01-01 to 2022-02-01 have already cloned!\n"
     ]
    },
    {
     "name": "stdout",
     "output_type": "stream",
     "text": [
      "Got 2 company\n"
     ]
    },
    {
     "name": "stderr",
     "output_type": "stream",
     "text": [
      "2022-06-18 02:35:18,636 : INFO : data AAT from 2015-01-01 to 2022-02-01 have already cloned!\n"
     ]
    },
    {
     "name": "stdout",
     "output_type": "stream",
     "text": [
      "Got 3 company\n"
     ]
    },
    {
     "name": "stderr",
     "output_type": "stream",
     "text": [
      "2022-06-18 02:35:31,249 : INFO : data ABR from 2015-01-01 to 2022-02-01 have already cloned!\n"
     ]
    },
    {
     "name": "stdout",
     "output_type": "stream",
     "text": [
      "Got 4 company\n"
     ]
    },
    {
     "name": "stderr",
     "output_type": "stream",
     "text": [
      "2022-06-18 02:35:37,920 : INFO : data ABS from 2015-01-01 to 2022-02-01 have already cloned!\n"
     ]
    },
    {
     "name": "stdout",
     "output_type": "stream",
     "text": [
      "Got 5 company\n"
     ]
    },
    {
     "name": "stderr",
     "output_type": "stream",
     "text": [
      "2022-06-18 02:36:02,957 : INFO : data ABT from 2015-01-01 to 2022-02-01 have already cloned!\n"
     ]
    },
    {
     "name": "stdout",
     "output_type": "stream",
     "text": [
      "Got 6 company\n"
     ]
    },
    {
     "name": "stderr",
     "output_type": "stream",
     "text": [
      "2022-06-18 02:36:30,275 : INFO : data ACB from 2015-01-01 to 2022-02-01 have already cloned!\n"
     ]
    },
    {
     "name": "stdout",
     "output_type": "stream",
     "text": [
      "Got 7 company\n"
     ]
    },
    {
     "name": "stderr",
     "output_type": "stream",
     "text": [
      "2022-06-18 02:36:57,881 : INFO : data ACC from 2015-01-01 to 2022-02-01 have already cloned!\n"
     ]
    },
    {
     "name": "stdout",
     "output_type": "stream",
     "text": [
      "Got 8 company\n"
     ]
    },
    {
     "name": "stderr",
     "output_type": "stream",
     "text": [
      "2022-06-18 02:37:23,187 : INFO : data ACL from 2015-01-01 to 2022-02-01 have already cloned!\n"
     ]
    },
    {
     "name": "stdout",
     "output_type": "stream",
     "text": [
      "Got 9 company\n"
     ]
    },
    {
     "name": "stderr",
     "output_type": "stream",
     "text": [
      "2022-06-18 02:37:30,527 : INFO : data ADG from 2015-01-01 to 2022-02-01 have already cloned!\n"
     ]
    },
    {
     "name": "stdout",
     "output_type": "stream",
     "text": [
      "Got 10 company\n"
     ]
    },
    {
     "name": "stderr",
     "output_type": "stream",
     "text": [
      "2022-06-18 02:37:49,799 : INFO : data ADS from 2015-01-01 to 2022-02-01 have already cloned!\n"
     ]
    },
    {
     "name": "stdout",
     "output_type": "stream",
     "text": [
      "Got 11 company\n"
     ]
    },
    {
     "name": "stderr",
     "output_type": "stream",
     "text": [
      "2022-06-18 02:37:57,531 : INFO : data AGG from 2015-01-01 to 2022-02-01 have already cloned!\n"
     ]
    },
    {
     "name": "stdout",
     "output_type": "stream",
     "text": [
      "Got 12 company\n"
     ]
    },
    {
     "name": "stderr",
     "output_type": "stream",
     "text": [
      "2022-06-18 02:38:24,009 : INFO : data AGM from 2015-01-01 to 2022-02-01 have already cloned!\n"
     ]
    },
    {
     "name": "stdout",
     "output_type": "stream",
     "text": [
      "Got 13 company\n"
     ]
    },
    {
     "name": "stderr",
     "output_type": "stream",
     "text": [
      "2022-06-18 02:38:49,546 : INFO : data AGR from 2015-01-01 to 2022-02-01 have already cloned!\n"
     ]
    },
    {
     "name": "stdout",
     "output_type": "stream",
     "text": [
      "Got 14 company\n"
     ]
    },
    {
     "name": "stderr",
     "output_type": "stream",
     "text": [
      "2022-06-18 02:39:18,167 : INFO : data AMD from 2015-01-01 to 2022-02-01 have already cloned!\n"
     ]
    },
    {
     "name": "stdout",
     "output_type": "stream",
     "text": [
      "Got 15 company\n"
     ]
    },
    {
     "name": "stderr",
     "output_type": "stream",
     "text": [
      "2022-06-18 02:39:51,616 : INFO : data ANV from 2015-01-01 to 2022-02-01 have already cloned!\n"
     ]
    },
    {
     "name": "stdout",
     "output_type": "stream",
     "text": [
      "Got 16 company\n"
     ]
    },
    {
     "name": "stderr",
     "output_type": "stream",
     "text": [
      "2022-06-18 02:40:17,274 : INFO : data APC from 2015-01-01 to 2022-02-01 have already cloned!\n"
     ]
    },
    {
     "name": "stdout",
     "output_type": "stream",
     "text": [
      "Got 17 company\n"
     ]
    },
    {
     "name": "stderr",
     "output_type": "stream",
     "text": [
      "2022-06-18 02:40:43,937 : INFO : data APG from 2015-01-01 to 2022-02-01 have already cloned!\n"
     ]
    },
    {
     "name": "stdout",
     "output_type": "stream",
     "text": [
      "Got 18 company\n"
     ]
    },
    {
     "name": "stderr",
     "output_type": "stream",
     "text": [
      "2022-06-18 02:40:50,380 : INFO : data APH from 2015-01-01 to 2022-02-01 have already cloned!\n"
     ]
    },
    {
     "name": "stdout",
     "output_type": "stream",
     "text": [
      "Got 19 company\n"
     ]
    },
    {
     "name": "stderr",
     "output_type": "stream",
     "text": [
      "2022-06-18 02:40:56,237 : INFO : data ASG from 2015-01-01 to 2022-02-01 have already cloned!\n"
     ]
    },
    {
     "name": "stdout",
     "output_type": "stream",
     "text": [
      "Got 20 company\n"
     ]
    },
    {
     "name": "stderr",
     "output_type": "stream",
     "text": [
      "2022-06-18 02:41:21,987 : INFO : data ASM from 2015-01-01 to 2022-02-01 have already cloned!\n"
     ]
    },
    {
     "name": "stdout",
     "output_type": "stream",
     "text": [
      "Got 21 company\n"
     ]
    },
    {
     "name": "stderr",
     "output_type": "stream",
     "text": [
      "2022-06-18 02:41:46,777 : INFO : data ASP from 2015-01-01 to 2022-02-01 have already cloned!\n"
     ]
    },
    {
     "name": "stdout",
     "output_type": "stream",
     "text": [
      "Got 22 company\n"
     ]
    },
    {
     "name": "stderr",
     "output_type": "stream",
     "text": [
      "2022-06-18 02:41:59,637 : INFO : data AST from 2015-01-01 to 2022-02-01 have already cloned!\n"
     ]
    },
    {
     "name": "stdout",
     "output_type": "stream",
     "text": [
      "Got 23 company\n"
     ]
    },
    {
     "name": "stderr",
     "output_type": "stream",
     "text": [
      "2022-06-18 02:42:00,412 : INFO : data BAF from 2015-01-01 to 2022-02-01 have already cloned!\n"
     ]
    },
    {
     "name": "stdout",
     "output_type": "stream",
     "text": [
      "Got 24 company\n"
     ]
    },
    {
     "name": "stderr",
     "output_type": "stream",
     "text": [
      "2022-06-18 02:42:25,227 : INFO : data BBC from 2015-01-01 to 2022-02-01 have already cloned!\n"
     ]
    },
    {
     "name": "stdout",
     "output_type": "stream",
     "text": [
      "Got 25 company\n"
     ]
    },
    {
     "name": "stderr",
     "output_type": "stream",
     "text": [
      "2022-06-18 02:42:50,164 : INFO : data BCE from 2015-01-01 to 2022-02-01 have already cloned!\n"
     ]
    },
    {
     "name": "stdout",
     "output_type": "stream",
     "text": [
      "Got 26 company\n"
     ]
    },
    {
     "name": "stderr",
     "output_type": "stream",
     "text": [
      "2022-06-18 02:43:13,173 : INFO : data BCG from 2015-01-01 to 2022-02-01 have already cloned!\n"
     ]
    },
    {
     "name": "stdout",
     "output_type": "stream",
     "text": [
      "Got 27 company\n"
     ]
    },
    {
     "name": "stderr",
     "output_type": "stream",
     "text": [
      "2022-06-18 02:43:27,001 : INFO : data BCM from 2015-01-01 to 2022-02-01 have already cloned!\n"
     ]
    },
    {
     "name": "stdout",
     "output_type": "stream",
     "text": [
      "Got 28 company\n"
     ]
    },
    {
     "name": "stderr",
     "output_type": "stream",
     "text": [
      "2022-06-18 02:43:47,781 : INFO : data BFC from 2015-01-01 to 2022-02-01 have already cloned!\n"
     ]
    },
    {
     "name": "stdout",
     "output_type": "stream",
     "text": [
      "Got 29 company\n"
     ]
    },
    {
     "name": "stderr",
     "output_type": "stream",
     "text": [
      "2022-06-18 02:44:06,916 : INFO : data BHN from 2015-01-01 to 2022-02-01 have already cloned!\n"
     ]
    },
    {
     "name": "stdout",
     "output_type": "stream",
     "text": [
      "Got 30 company\n"
     ]
    },
    {
     "name": "stderr",
     "output_type": "stream",
     "text": [
      "2022-06-18 02:44:33,199 : INFO : data BIC from 2015-01-01 to 2022-02-01 have already cloned!\n"
     ]
    },
    {
     "name": "stdout",
     "output_type": "stream",
     "text": [
      "Got 31 company\n"
     ]
    },
    {
     "name": "stderr",
     "output_type": "stream",
     "text": [
      "2022-06-18 02:44:57,860 : INFO : data BID from 2015-01-01 to 2022-02-01 have already cloned!\n"
     ]
    },
    {
     "name": "stdout",
     "output_type": "stream",
     "text": [
      "Got 32 company\n"
     ]
    },
    {
     "name": "stderr",
     "output_type": "stream",
     "text": [
      "2022-06-18 02:45:02,080 : INFO : data BKG from 2015-01-01 to 2022-02-01 have already cloned!\n"
     ]
    },
    {
     "name": "stdout",
     "output_type": "stream",
     "text": [
      "Got 33 company\n"
     ]
    },
    {
     "name": "stderr",
     "output_type": "stream",
     "text": [
      "2022-06-18 02:45:26,787 : INFO : data BMC from 2015-01-01 to 2022-02-01 have already cloned!\n"
     ]
    },
    {
     "name": "stdout",
     "output_type": "stream",
     "text": [
      "Got 34 company\n"
     ]
    },
    {
     "name": "stderr",
     "output_type": "stream",
     "text": [
      "2022-06-18 02:45:51,515 : INFO : data BMI from 2015-01-01 to 2022-02-01 have already cloned!\n"
     ]
    },
    {
     "name": "stdout",
     "output_type": "stream",
     "text": [
      "Got 35 company\n"
     ]
    },
    {
     "name": "stderr",
     "output_type": "stream",
     "text": [
      "2022-06-18 02:46:20,412 : INFO : data BMP from 2015-01-01 to 2022-02-01 have already cloned!\n"
     ]
    },
    {
     "name": "stdout",
     "output_type": "stream",
     "text": [
      "Got 36 company\n"
     ]
    },
    {
     "name": "stderr",
     "output_type": "stream",
     "text": [
      "2022-06-18 02:46:45,631 : INFO : data BRC from 2015-01-01 to 2022-02-01 have already cloned!\n"
     ]
    },
    {
     "name": "stdout",
     "output_type": "stream",
     "text": [
      "Got 37 company\n"
     ]
    },
    {
     "name": "stderr",
     "output_type": "stream",
     "text": [
      "2022-06-18 02:47:09,700 : INFO : data BSI from 2015-01-01 to 2022-02-01 have already cloned!\n"
     ]
    },
    {
     "name": "stdout",
     "output_type": "stream",
     "text": [
      "Got 38 company\n"
     ]
    },
    {
     "name": "stderr",
     "output_type": "stream",
     "text": [
      "2022-06-18 02:48:03,505 : INFO : data BTP from 2015-01-01 to 2022-02-01 have already cloned!\n"
     ]
    },
    {
     "name": "stdout",
     "output_type": "stream",
     "text": [
      "Got 39 company\n"
     ]
    },
    {
     "name": "stderr",
     "output_type": "stream",
     "text": [
      "2022-06-18 02:48:27,126 : INFO : data BTT from 2015-01-01 to 2022-02-01 have already cloned!\n"
     ]
    },
    {
     "name": "stdout",
     "output_type": "stream",
     "text": [
      "Got 40 company\n"
     ]
    },
    {
     "name": "stderr",
     "output_type": "stream",
     "text": [
      "2022-06-18 02:49:20,769 : INFO : data BVH from 2015-01-01 to 2022-02-01 have already cloned!\n"
     ]
    },
    {
     "name": "stdout",
     "output_type": "stream",
     "text": [
      "Got 41 company\n"
     ]
    },
    {
     "name": "stderr",
     "output_type": "stream",
     "text": [
      "2022-06-18 02:49:35,649 : INFO : data BWE from 2015-01-01 to 2022-02-01 have already cloned!\n"
     ]
    },
    {
     "name": "stdout",
     "output_type": "stream",
     "text": [
      "Got 42 company\n"
     ]
    },
    {
     "name": "stderr",
     "output_type": "stream",
     "text": [
      "2022-06-18 02:49:59,878 : INFO : data C32 from 2015-01-01 to 2022-02-01 have already cloned!\n"
     ]
    },
    {
     "name": "stdout",
     "output_type": "stream",
     "text": [
      "Got 43 company\n"
     ]
    },
    {
     "name": "stderr",
     "output_type": "stream",
     "text": [
      "2022-06-18 02:50:23,836 : INFO : data C47 from 2015-01-01 to 2022-02-01 have already cloned!\n"
     ]
    },
    {
     "name": "stdout",
     "output_type": "stream",
     "text": [
      "Got 44 company\n"
     ]
    },
    {
     "name": "stderr",
     "output_type": "stream",
     "text": [
      "2022-06-18 02:50:47,872 : INFO : data CAV from 2015-01-01 to 2022-02-01 have already cloned!\n"
     ]
    },
    {
     "name": "stdout",
     "output_type": "stream",
     "text": [
      "Got 45 company\n"
     ]
    },
    {
     "name": "stderr",
     "output_type": "stream",
     "text": [
      "2022-06-18 02:51:11,923 : INFO : data CCI from 2015-01-01 to 2022-02-01 have already cloned!\n"
     ]
    },
    {
     "name": "stdout",
     "output_type": "stream",
     "text": [
      "Got 46 company\n"
     ]
    },
    {
     "name": "stderr",
     "output_type": "stream",
     "text": [
      "2022-06-18 02:51:36,646 : INFO : data CCL from 2015-01-01 to 2022-02-01 have already cloned!\n"
     ]
    },
    {
     "name": "stdout",
     "output_type": "stream",
     "text": [
      "Got 47 company\n"
     ]
    },
    {
     "name": "stderr",
     "output_type": "stream",
     "text": [
      "2022-06-18 02:52:00,891 : INFO : data CDC from 2015-01-01 to 2022-02-01 have already cloned!\n"
     ]
    },
    {
     "name": "stdout",
     "output_type": "stream",
     "text": [
      "Got 48 company\n"
     ]
    },
    {
     "name": "stderr",
     "output_type": "stream",
     "text": [
      "2022-06-18 02:52:16,469 : INFO : data CEE from 2015-01-01 to 2022-02-01 have already cloned!\n"
     ]
    },
    {
     "name": "stdout",
     "output_type": "stream",
     "text": [
      "Got 49 company\n"
     ]
    },
    {
     "name": "stderr",
     "output_type": "stream",
     "text": [
      "2022-06-18 02:52:40,103 : INFO : data CHP from 2015-01-01 to 2022-02-01 have already cloned!\n"
     ]
    },
    {
     "name": "stdout",
     "output_type": "stream",
     "text": [
      "Got 50 company\n"
     ]
    },
    {
     "name": "stderr",
     "output_type": "stream",
     "text": [
      "2022-06-18 02:53:03,839 : INFO : data CIG from 2015-01-01 to 2022-02-01 have already cloned!\n"
     ]
    },
    {
     "name": "stdout",
     "output_type": "stream",
     "text": [
      "Got 51 company\n"
     ]
    },
    {
     "name": "stderr",
     "output_type": "stream",
     "text": [
      "2022-06-18 02:53:29,131 : INFO : data CII from 2015-01-01 to 2022-02-01 have already cloned!\n"
     ]
    },
    {
     "name": "stdout",
     "output_type": "stream",
     "text": [
      "Got 52 company\n"
     ]
    },
    {
     "name": "stderr",
     "output_type": "stream",
     "text": [
      "2022-06-18 02:53:35,433 : INFO : data CKG from 2015-01-01 to 2022-02-01 have already cloned!\n"
     ]
    },
    {
     "name": "stdout",
     "output_type": "stream",
     "text": [
      "Got 53 company\n"
     ]
    },
    {
     "name": "stderr",
     "output_type": "stream",
     "text": [
      "2022-06-18 02:53:59,792 : INFO : data CLC from 2015-01-01 to 2022-02-01 have already cloned!\n"
     ]
    },
    {
     "name": "stdout",
     "output_type": "stream",
     "text": [
      "Got 54 company\n"
     ]
    },
    {
     "name": "stderr",
     "output_type": "stream",
     "text": [
      "2022-06-18 02:54:23,013 : INFO : data CLL from 2015-01-01 to 2022-02-01 have already cloned!\n"
     ]
    },
    {
     "name": "stdout",
     "output_type": "stream",
     "text": [
      "Got 55 company\n"
     ]
    },
    {
     "name": "stderr",
     "output_type": "stream",
     "text": [
      "2022-06-18 02:54:46,819 : INFO : data CLW from 2015-01-01 to 2022-02-01 have already cloned!\n"
     ]
    },
    {
     "name": "stdout",
     "output_type": "stream",
     "text": [
      "Got 56 company\n"
     ]
    },
    {
     "name": "stderr",
     "output_type": "stream",
     "text": [
      "2022-06-18 02:55:11,115 : INFO : data CMG from 2015-01-01 to 2022-02-01 have already cloned!\n"
     ]
    },
    {
     "name": "stdout",
     "output_type": "stream",
     "text": [
      "Got 57 company\n"
     ]
    },
    {
     "name": "stderr",
     "output_type": "stream",
     "text": [
      "2022-06-18 02:55:36,164 : INFO : data CMV from 2015-01-01 to 2022-02-01 have already cloned!\n"
     ]
    },
    {
     "name": "stdout",
     "output_type": "stream",
     "text": [
      "Got 58 company\n"
     ]
    },
    {
     "name": "stderr",
     "output_type": "stream",
     "text": [
      "2022-06-18 02:56:00,289 : INFO : data CMX from 2015-01-01 to 2022-02-01 have already cloned!\n"
     ]
    },
    {
     "name": "stdout",
     "output_type": "stream",
     "text": [
      "Got 59 company\n"
     ]
    },
    {
     "name": "stderr",
     "output_type": "stream",
     "text": [
      "2022-06-18 02:56:24,117 : INFO : data CNG from 2015-01-01 to 2022-02-01 have already cloned!\n"
     ]
    },
    {
     "name": "stdout",
     "output_type": "stream",
     "text": [
      "Got 60 company\n"
     ]
    },
    {
     "name": "stderr",
     "output_type": "stream",
     "text": [
      "2022-06-18 02:56:48,839 : INFO : data COM from 2015-01-01 to 2022-02-01 have already cloned!\n"
     ]
    },
    {
     "name": "stdout",
     "output_type": "stream",
     "text": [
      "Got 61 company\n"
     ]
    },
    {
     "name": "stderr",
     "output_type": "stream",
     "text": [
      "2022-06-18 02:57:00,440 : INFO : data CRC from 2015-01-01 to 2022-02-01 have already cloned!\n"
     ]
    },
    {
     "name": "stdout",
     "output_type": "stream",
     "text": [
      "Got 62 company\n"
     ]
    },
    {
     "name": "stderr",
     "output_type": "stream",
     "text": [
      "2022-06-18 02:57:11,656 : INFO : data CRE from 2015-01-01 to 2022-02-01 have already cloned!\n"
     ]
    },
    {
     "name": "stdout",
     "output_type": "stream",
     "text": [
      "Got 63 company\n"
     ]
    },
    {
     "name": "stderr",
     "output_type": "stream",
     "text": [
      "2022-06-18 02:57:36,192 : INFO : data CSM from 2015-01-01 to 2022-02-01 have already cloned!\n"
     ]
    },
    {
     "name": "stdout",
     "output_type": "stream",
     "text": [
      "Got 64 company\n"
     ]
    },
    {
     "name": "stderr",
     "output_type": "stream",
     "text": [
      "2022-06-18 02:57:58,953 : INFO : data CSV from 2015-01-01 to 2022-02-01 have already cloned!\n"
     ]
    },
    {
     "name": "stdout",
     "output_type": "stream",
     "text": [
      "Got 65 company\n"
     ]
    },
    {
     "name": "stderr",
     "output_type": "stream",
     "text": [
      "2022-06-18 02:58:22,954 : INFO : data CTD from 2015-01-01 to 2022-02-01 have already cloned!\n"
     ]
    },
    {
     "name": "stdout",
     "output_type": "stream",
     "text": [
      "Got 66 company\n"
     ]
    },
    {
     "name": "stderr",
     "output_type": "stream",
     "text": [
      "2022-06-18 02:58:38,393 : INFO : data CTF from 2015-01-01 to 2022-02-01 have already cloned!\n"
     ]
    },
    {
     "name": "stdout",
     "output_type": "stream",
     "text": [
      "Got 67 company\n"
     ]
    },
    {
     "name": "stderr",
     "output_type": "stream",
     "text": [
      "2022-06-18 02:59:02,807 : INFO : data CTG from 2015-01-01 to 2022-02-01 have already cloned!\n"
     ]
    },
    {
     "name": "stdout",
     "output_type": "stream",
     "text": [
      "Got 68 company\n"
     ]
    },
    {
     "name": "stderr",
     "output_type": "stream",
     "text": [
      "2022-06-18 02:59:27,007 : INFO : data CTI from 2015-01-01 to 2022-02-01 have already cloned!\n"
     ]
    },
    {
     "name": "stdout",
     "output_type": "stream",
     "text": [
      "Got 69 company\n"
     ]
    },
    {
     "name": "stderr",
     "output_type": "stream",
     "text": [
      "2022-06-18 02:59:40,856 : INFO : data CTR from 2015-01-01 to 2022-02-01 have already cloned!\n"
     ]
    },
    {
     "name": "stdout",
     "output_type": "stream",
     "text": [
      "Got 70 company\n"
     ]
    },
    {
     "name": "stderr",
     "output_type": "stream",
     "text": [
      "2022-06-18 03:00:05,783 : INFO : data CTS from 2015-01-01 to 2022-02-01 have already cloned!\n"
     ]
    },
    {
     "name": "stdout",
     "output_type": "stream",
     "text": [
      "Got 71 company\n"
     ]
    },
    {
     "name": "stderr",
     "output_type": "stream",
     "text": [
      "2022-06-18 03:00:30,197 : INFO : data CVT from 2015-01-01 to 2022-02-01 have already cloned!\n"
     ]
    },
    {
     "name": "stdout",
     "output_type": "stream",
     "text": [
      "Got 72 company\n"
     ]
    },
    {
     "name": "stderr",
     "output_type": "stream",
     "text": [
      "2022-06-18 03:00:55,354 : INFO : data D2D from 2015-01-01 to 2022-02-01 have already cloned!\n"
     ]
    },
    {
     "name": "stdout",
     "output_type": "stream",
     "text": [
      "Got 73 company\n"
     ]
    },
    {
     "name": "stderr",
     "output_type": "stream",
     "text": [
      "2022-06-18 03:01:23,100 : INFO : data DAG from 2015-01-01 to 2022-02-01 have already cloned!\n"
     ]
    },
    {
     "name": "stdout",
     "output_type": "stream",
     "text": [
      "Got 74 company\n"
     ]
    },
    {
     "name": "stderr",
     "output_type": "stream",
     "text": [
      "2022-06-18 03:01:41,222 : INFO : data DAH from 2015-01-01 to 2022-02-01 have already cloned!\n"
     ]
    },
    {
     "name": "stdout",
     "output_type": "stream",
     "text": [
      "Got 75 company\n"
     ]
    },
    {
     "name": "stderr",
     "output_type": "stream",
     "text": [
      "2022-06-18 03:02:01,768 : INFO : data DAT from 2015-01-01 to 2022-02-01 have already cloned!\n"
     ]
    },
    {
     "name": "stdout",
     "output_type": "stream",
     "text": [
      "Got 76 company\n"
     ]
    },
    {
     "name": "stderr",
     "output_type": "stream",
     "text": [
      "2022-06-18 03:02:26,113 : INFO : data DBC from 2015-01-01 to 2022-02-01 have already cloned!\n"
     ]
    },
    {
     "name": "stdout",
     "output_type": "stream",
     "text": [
      "Got 77 company\n"
     ]
    },
    {
     "name": "stderr",
     "output_type": "stream",
     "text": [
      "2022-06-18 03:02:42,589 : INFO : data DBD from 2015-01-01 to 2022-02-01 have already cloned!\n"
     ]
    },
    {
     "name": "stdout",
     "output_type": "stream",
     "text": [
      "Got 78 company\n"
     ]
    },
    {
     "name": "stderr",
     "output_type": "stream",
     "text": [
      "2022-06-18 03:03:06,914 : INFO : data DBT from 2015-01-01 to 2022-02-01 have already cloned!\n"
     ]
    },
    {
     "name": "stdout",
     "output_type": "stream",
     "text": [
      "Got 79 company\n"
     ]
    },
    {
     "name": "stderr",
     "output_type": "stream",
     "text": [
      "2022-06-18 03:03:31,223 : INFO : data DC4 from 2015-01-01 to 2022-02-01 have already cloned!\n"
     ]
    },
    {
     "name": "stdout",
     "output_type": "stream",
     "text": [
      "Got 80 company\n"
     ]
    },
    {
     "name": "stderr",
     "output_type": "stream",
     "text": [
      "2022-06-18 03:03:55,818 : INFO : data DCL from 2015-01-01 to 2022-02-01 have already cloned!\n"
     ]
    },
    {
     "name": "stdout",
     "output_type": "stream",
     "text": [
      "Got 81 company\n"
     ]
    },
    {
     "name": "stderr",
     "output_type": "stream",
     "text": [
      "2022-06-18 03:04:18,867 : INFO : data DCM from 2015-01-01 to 2022-02-01 have already cloned!\n"
     ]
    },
    {
     "name": "stdout",
     "output_type": "stream",
     "text": [
      "Got 82 company\n"
     ]
    },
    {
     "name": "stderr",
     "output_type": "stream",
     "text": [
      "2022-06-18 03:04:42,372 : INFO : data DGC from 2015-01-01 to 2022-02-01 have already cloned!\n"
     ]
    },
    {
     "name": "stdout",
     "output_type": "stream",
     "text": [
      "Got 83 company\n"
     ]
    },
    {
     "name": "stderr",
     "output_type": "stream",
     "text": [
      "2022-06-18 03:05:04,155 : INFO : data DGW from 2015-01-01 to 2022-02-01 have already cloned!\n"
     ]
    },
    {
     "name": "stdout",
     "output_type": "stream",
     "text": [
      "Got 84 company\n"
     ]
    },
    {
     "name": "stderr",
     "output_type": "stream",
     "text": [
      "2022-06-18 03:05:30,641 : INFO : data DHA from 2015-01-01 to 2022-02-01 have already cloned!\n"
     ]
    },
    {
     "name": "stdout",
     "output_type": "stream",
     "text": [
      "Got 85 company\n"
     ]
    },
    {
     "name": "stderr",
     "output_type": "stream",
     "text": [
      "2022-06-18 03:05:55,268 : INFO : data DHC from 2015-01-01 to 2022-02-01 have already cloned!\n"
     ]
    },
    {
     "name": "stdout",
     "output_type": "stream",
     "text": [
      "Got 86 company\n"
     ]
    },
    {
     "name": "stderr",
     "output_type": "stream",
     "text": [
      "2022-06-18 03:06:20,291 : INFO : data DHG from 2015-01-01 to 2022-02-01 have already cloned!\n"
     ]
    },
    {
     "name": "stdout",
     "output_type": "stream",
     "text": [
      "Got 87 company\n"
     ]
    },
    {
     "name": "stderr",
     "output_type": "stream",
     "text": [
      "2022-06-18 03:06:44,070 : INFO : data DHM from 2015-01-01 to 2022-02-01 have already cloned!\n"
     ]
    },
    {
     "name": "stdout",
     "output_type": "stream",
     "text": [
      "Got 88 company\n"
     ]
    },
    {
     "name": "stderr",
     "output_type": "stream",
     "text": [
      "2022-06-18 03:07:11,279 : INFO : data DIG from 2015-01-01 to 2022-02-01 have already cloned!\n"
     ]
    },
    {
     "name": "stdout",
     "output_type": "stream",
     "text": [
      "Got 89 company\n"
     ]
    },
    {
     "name": "stderr",
     "output_type": "stream",
     "text": [
      "2022-06-18 03:07:35,421 : INFO : data DLG from 2015-01-01 to 2022-02-01 have already cloned!\n"
     ]
    },
    {
     "name": "stdout",
     "output_type": "stream",
     "text": [
      "Got 90 company\n"
     ]
    },
    {
     "name": "stderr",
     "output_type": "stream",
     "text": [
      "2022-06-18 03:08:00,032 : INFO : data DMC from 2015-01-01 to 2022-02-01 have already cloned!\n"
     ]
    },
    {
     "name": "stdout",
     "output_type": "stream",
     "text": [
      "Got 91 company\n"
     ]
    },
    {
     "name": "stderr",
     "output_type": "stream",
     "text": [
      "2022-06-18 03:08:16,840 : INFO : data DPG from 2015-01-01 to 2022-02-01 have already cloned!\n"
     ]
    },
    {
     "name": "stdout",
     "output_type": "stream",
     "text": [
      "Got 92 company\n"
     ]
    },
    {
     "name": "stderr",
     "output_type": "stream",
     "text": [
      "2022-06-18 03:08:41,197 : INFO : data DPM from 2015-01-01 to 2022-02-01 have already cloned!\n"
     ]
    },
    {
     "name": "stdout",
     "output_type": "stream",
     "text": [
      "Got 93 company\n"
     ]
    },
    {
     "name": "stderr",
     "output_type": "stream",
     "text": [
      "2022-06-18 03:09:05,493 : INFO : data DPR from 2015-01-01 to 2022-02-01 have already cloned!\n"
     ]
    },
    {
     "name": "stdout",
     "output_type": "stream",
     "text": [
      "Got 94 company\n"
     ]
    },
    {
     "name": "stderr",
     "output_type": "stream",
     "text": [
      "2022-06-18 03:09:30,459 : INFO : data DQC from 2015-01-01 to 2022-02-01 have already cloned!\n"
     ]
    },
    {
     "name": "stdout",
     "output_type": "stream",
     "text": [
      "Got 95 company\n"
     ]
    },
    {
     "name": "stderr",
     "output_type": "stream",
     "text": [
      "2022-06-18 03:09:55,006 : INFO : data DRC from 2015-01-01 to 2022-02-01 have already cloned!\n"
     ]
    },
    {
     "name": "stdout",
     "output_type": "stream",
     "text": [
      "Got 96 company\n"
     ]
    },
    {
     "name": "stderr",
     "output_type": "stream",
     "text": [
      "2022-06-18 03:10:19,285 : INFO : data DRH from 2015-01-01 to 2022-02-01 have already cloned!\n"
     ]
    },
    {
     "name": "stdout",
     "output_type": "stream",
     "text": [
      "Got 97 company\n"
     ]
    },
    {
     "name": "stderr",
     "output_type": "stream",
     "text": [
      "2022-06-18 03:10:43,622 : INFO : data DRL from 2015-01-01 to 2022-02-01 have already cloned!\n"
     ]
    },
    {
     "name": "stdout",
     "output_type": "stream",
     "text": [
      "Got 98 company\n"
     ]
    },
    {
     "name": "stderr",
     "output_type": "stream",
     "text": [
      "2022-06-18 03:11:07,605 : INFO : data DSN from 2015-01-01 to 2022-02-01 have already cloned!\n"
     ]
    },
    {
     "name": "stdout",
     "output_type": "stream",
     "text": [
      "Got 99 company\n"
     ]
    },
    {
     "name": "stderr",
     "output_type": "stream",
     "text": [
      "2022-06-18 03:11:32,165 : INFO : data DTA from 2015-01-01 to 2022-02-01 have already cloned!\n"
     ]
    },
    {
     "name": "stdout",
     "output_type": "stream",
     "text": [
      "Got 100 company\n"
     ]
    },
    {
     "name": "stderr",
     "output_type": "stream",
     "text": [
      "2022-06-18 03:11:56,400 : INFO : data DTL from 2015-01-01 to 2022-02-01 have already cloned!\n"
     ]
    },
    {
     "name": "stdout",
     "output_type": "stream",
     "text": [
      "Got 101 company\n"
     ]
    },
    {
     "name": "stderr",
     "output_type": "stream",
     "text": [
      "2022-06-18 03:12:20,733 : INFO : data DTT from 2015-01-01 to 2022-02-01 have already cloned!\n"
     ]
    },
    {
     "name": "stdout",
     "output_type": "stream",
     "text": [
      "Got 102 company\n"
     ]
    },
    {
     "name": "stderr",
     "output_type": "stream",
     "text": [
      "2022-06-18 03:12:44,555 : INFO : data DVP from 2015-01-01 to 2022-02-01 have already cloned!\n"
     ]
    },
    {
     "name": "stdout",
     "output_type": "stream",
     "text": [
      "Got 103 company\n"
     ]
    },
    {
     "name": "stderr",
     "output_type": "stream",
     "text": [
      "2022-06-18 03:13:08,686 : INFO : data DXG from 2015-01-01 to 2022-02-01 have already cloned!\n"
     ]
    },
    {
     "name": "stdout",
     "output_type": "stream",
     "text": [
      "Got 104 company\n"
     ]
    },
    {
     "name": "stderr",
     "output_type": "stream",
     "text": [
      "2022-06-18 03:13:10,710 : INFO : data DXS from 2015-01-01 to 2022-02-01 have already cloned!\n"
     ]
    },
    {
     "name": "stdout",
     "output_type": "stream",
     "text": [
      "Got 105 company\n"
     ]
    },
    {
     "name": "stderr",
     "output_type": "stream",
     "text": [
      "2022-06-18 03:13:34,845 : INFO : data DXV from 2015-01-01 to 2022-02-01 have already cloned!\n"
     ]
    },
    {
     "name": "stdout",
     "output_type": "stream",
     "text": [
      "Got 106 company\n"
     ]
    },
    {
     "name": "stderr",
     "output_type": "stream",
     "text": [
      "2022-06-18 03:13:52,157 : INFO : data E1VFVN30 from 2015-01-01 to 2022-02-01 have already cloned!\n"
     ]
    },
    {
     "name": "stdout",
     "output_type": "stream",
     "text": [
      "Got 107 company\n"
     ]
    },
    {
     "name": "stderr",
     "output_type": "stream",
     "text": [
      "2022-06-18 03:14:16,497 : INFO : data EIB from 2015-01-01 to 2022-02-01 have already cloned!\n"
     ]
    },
    {
     "name": "stdout",
     "output_type": "stream",
     "text": [
      "Got 108 company\n"
     ]
    },
    {
     "name": "stderr",
     "output_type": "stream",
     "text": [
      "2022-06-18 03:14:40,837 : INFO : data ELC from 2015-01-01 to 2022-02-01 have already cloned!\n"
     ]
    },
    {
     "name": "stdout",
     "output_type": "stream",
     "text": [
      "Got 109 company\n"
     ]
    },
    {
     "name": "stderr",
     "output_type": "stream",
     "text": [
      "2022-06-18 03:15:04,587 : INFO : data EMC from 2015-01-01 to 2022-02-01 have already cloned!\n"
     ]
    },
    {
     "name": "stdout",
     "output_type": "stream",
     "text": [
      "Got 110 company\n"
     ]
    },
    {
     "name": "stderr",
     "output_type": "stream",
     "text": [
      "2022-06-18 03:15:28,617 : INFO : data EVE from 2015-01-01 to 2022-02-01 have already cloned!\n"
     ]
    },
    {
     "name": "stdout",
     "output_type": "stream",
     "text": [
      "Got 111 company\n"
     ]
    },
    {
     "name": "stderr",
     "output_type": "stream",
     "text": [
      "2022-06-18 03:15:39,949 : INFO : data EVF from 2015-01-01 to 2022-02-01 have already cloned!\n"
     ]
    },
    {
     "name": "stdout",
     "output_type": "stream",
     "text": [
      "Got 112 company\n"
     ]
    },
    {
     "name": "stderr",
     "output_type": "stream",
     "text": [
      "2022-06-18 03:15:55,856 : INFO : data EVG from 2015-01-01 to 2022-02-01 have already cloned!\n"
     ]
    },
    {
     "name": "stdout",
     "output_type": "stream",
     "text": [
      "Got 113 company\n"
     ]
    },
    {
     "name": "stderr",
     "output_type": "stream",
     "text": [
      "2022-06-18 03:16:21,872 : INFO : data FCM from 2015-01-01 to 2022-02-01 have already cloned!\n"
     ]
    },
    {
     "name": "stdout",
     "output_type": "stream",
     "text": [
      "Got 114 company\n"
     ]
    },
    {
     "name": "stderr",
     "output_type": "stream",
     "text": [
      "2022-06-18 03:16:46,595 : INFO : data FCN from 2015-01-01 to 2022-02-01 have already cloned!\n"
     ]
    },
    {
     "name": "stdout",
     "output_type": "stream",
     "text": [
      "Got 115 company\n"
     ]
    },
    {
     "name": "stderr",
     "output_type": "stream",
     "text": [
      "2022-06-18 03:17:11,236 : INFO : data FDC from 2015-01-01 to 2022-02-01 have already cloned!\n"
     ]
    },
    {
     "name": "stdout",
     "output_type": "stream",
     "text": [
      "Got 116 company\n"
     ]
    },
    {
     "name": "stderr",
     "output_type": "stream",
     "text": [
      "2022-06-18 03:17:22,433 : INFO : data FIR from 2015-01-01 to 2022-02-01 have already cloned!\n"
     ]
    },
    {
     "name": "stdout",
     "output_type": "stream",
     "text": [
      "Got 117 company\n"
     ]
    },
    {
     "name": "stderr",
     "output_type": "stream",
     "text": [
      "2022-06-18 03:17:46,016 : INFO : data FIT from 2015-01-01 to 2022-02-01 have already cloned!\n"
     ]
    },
    {
     "name": "stdout",
     "output_type": "stream",
     "text": [
      "Got 118 company\n"
     ]
    },
    {
     "name": "stderr",
     "output_type": "stream",
     "text": [
      "2022-06-18 03:18:10,626 : INFO : data FLC from 2015-01-01 to 2022-02-01 have already cloned!\n"
     ]
    },
    {
     "name": "stdout",
     "output_type": "stream",
     "text": [
      "Got 119 company\n"
     ]
    },
    {
     "name": "stderr",
     "output_type": "stream",
     "text": [
      "2022-06-18 03:18:35,508 : INFO : data FMC from 2015-01-01 to 2022-02-01 have already cloned!\n"
     ]
    },
    {
     "name": "stdout",
     "output_type": "stream",
     "text": [
      "Got 120 company\n"
     ]
    },
    {
     "name": "stderr",
     "output_type": "stream",
     "text": [
      "2022-06-18 03:19:00,526 : INFO : data FPT from 2015-01-01 to 2022-02-01 have already cloned!\n"
     ]
    },
    {
     "name": "stdout",
     "output_type": "stream",
     "text": [
      "Got 121 company\n"
     ]
    },
    {
     "name": "stderr",
     "output_type": "stream",
     "text": [
      "2022-06-18 03:19:13,172 : INFO : data FRT from 2015-01-01 to 2022-02-01 have already cloned!\n"
     ]
    },
    {
     "name": "stdout",
     "output_type": "stream",
     "text": [
      "Got 122 company\n"
     ]
    },
    {
     "name": "stderr",
     "output_type": "stream",
     "text": [
      "2022-06-18 03:19:29,912 : INFO : data FTS from 2015-01-01 to 2022-02-01 have already cloned!\n"
     ]
    },
    {
     "name": "stdout",
     "output_type": "stream",
     "text": [
      "Got 123 company\n"
     ]
    },
    {
     "name": "stderr",
     "output_type": "stream",
     "text": [
      "2022-06-18 03:19:31,077 : INFO : data FUCTVGF3 from 2015-01-01 to 2022-02-01 have already cloned!\n"
     ]
    },
    {
     "name": "stdout",
     "output_type": "stream",
     "text": [
      "Got 124 company\n"
     ]
    },
    {
     "name": "stderr",
     "output_type": "stream",
     "text": [
      "2022-06-18 03:19:47,315 : INFO : data FUCVREIT from 2015-01-01 to 2022-02-01 have already cloned!\n"
     ]
    },
    {
     "name": "stdout",
     "output_type": "stream",
     "text": [
      "Got 125 company\n"
     ]
    },
    {
     "name": "stderr",
     "output_type": "stream",
     "text": [
      "2022-06-18 03:19:48,308 : INFO : data FUEIP100 from 2015-01-01 to 2022-02-01 have already cloned!\n"
     ]
    },
    {
     "name": "stdout",
     "output_type": "stream",
     "text": [
      "Got 126 company\n"
     ]
    },
    {
     "name": "stderr",
     "output_type": "stream",
     "text": [
      "2022-06-18 03:19:48,618 : INFO : data FUEKIV30 from 2015-01-01 to 2022-02-01 have already cloned!\n"
     ]
    },
    {
     "name": "stdout",
     "output_type": "stream",
     "text": [
      "Got 127 company\n"
     ]
    },
    {
     "name": "stderr",
     "output_type": "stream",
     "text": [
      "2022-06-18 03:19:52,015 : INFO : data FUEMAV30 from 2015-01-01 to 2022-02-01 have already cloned!\n"
     ]
    },
    {
     "name": "stdout",
     "output_type": "stream",
     "text": [
      "Got 128 company\n"
     ]
    },
    {
     "name": "stderr",
     "output_type": "stream",
     "text": [
      "2022-06-18 03:19:56,858 : INFO : data FUESSV30 from 2015-01-01 to 2022-02-01 have already cloned!\n"
     ]
    },
    {
     "name": "stdout",
     "output_type": "stream",
     "text": [
      "Got 129 company\n"
     ]
    },
    {
     "name": "stderr",
     "output_type": "stream",
     "text": [
      "2022-06-18 03:20:07,225 : INFO : data FUESSV50 from 2015-01-01 to 2022-02-01 have already cloned!\n"
     ]
    },
    {
     "name": "stdout",
     "output_type": "stream",
     "text": [
      "Got 130 company\n"
     ]
    },
    {
     "name": "stderr",
     "output_type": "stream",
     "text": [
      "2022-06-18 03:20:13,170 : INFO : data FUESSVFL from 2015-01-01 to 2022-02-01 have already cloned!\n"
     ]
    },
    {
     "name": "stdout",
     "output_type": "stream",
     "text": [
      "Got 131 company\n"
     ]
    },
    {
     "name": "stderr",
     "output_type": "stream",
     "text": [
      "2022-06-18 03:20:18,937 : INFO : data FUEVFVND from 2015-01-01 to 2022-02-01 have already cloned!\n"
     ]
    },
    {
     "name": "stdout",
     "output_type": "stream",
     "text": [
      "Got 132 company\n"
     ]
    },
    {
     "name": "stderr",
     "output_type": "stream",
     "text": [
      "2022-06-18 03:20:23,916 : INFO : data FUEVN100 from 2015-01-01 to 2022-02-01 have already cloned!\n"
     ]
    },
    {
     "name": "stdout",
     "output_type": "stream",
     "text": [
      "Got 133 company\n"
     ]
    },
    {
     "name": "stderr",
     "output_type": "stream",
     "text": [
      "2022-06-18 03:20:34,072 : INFO : data GAB from 2015-01-01 to 2022-02-01 have already cloned!\n"
     ]
    },
    {
     "name": "stdout",
     "output_type": "stream",
     "text": [
      "Got 134 company\n"
     ]
    },
    {
     "name": "stderr",
     "output_type": "stream",
     "text": [
      "2022-06-18 03:20:57,811 : INFO : data GAS from 2015-01-01 to 2022-02-01 have already cloned!\n"
     ]
    },
    {
     "name": "stdout",
     "output_type": "stream",
     "text": [
      "Got 135 company\n"
     ]
    },
    {
     "name": "stderr",
     "output_type": "stream",
     "text": [
      "2022-06-18 03:21:22,516 : INFO : data GDT from 2015-01-01 to 2022-02-01 have already cloned!\n"
     ]
    },
    {
     "name": "stdout",
     "output_type": "stream",
     "text": [
      "Got 136 company\n"
     ]
    },
    {
     "name": "stderr",
     "output_type": "stream",
     "text": [
      "2022-06-18 03:21:40,812 : INFO : data GEG from 2015-01-01 to 2022-02-01 have already cloned!\n"
     ]
    },
    {
     "name": "stdout",
     "output_type": "stream",
     "text": [
      "Got 137 company\n"
     ]
    },
    {
     "name": "stderr",
     "output_type": "stream",
     "text": [
      "2022-06-18 03:22:08,862 : INFO : data GEX from 2015-01-01 to 2022-02-01 have already cloned!\n"
     ]
    },
    {
     "name": "stdout",
     "output_type": "stream",
     "text": [
      "Got 138 company\n"
     ]
    },
    {
     "name": "stderr",
     "output_type": "stream",
     "text": [
      "2022-06-18 03:22:46,350 : INFO : data GIL from 2015-01-01 to 2022-02-01 have already cloned!\n"
     ]
    },
    {
     "name": "stdout",
     "output_type": "stream",
     "text": [
      "Got 139 company\n"
     ]
    },
    {
     "name": "stderr",
     "output_type": "stream",
     "text": [
      "2022-06-18 03:23:11,609 : INFO : data GMC from 2015-01-01 to 2022-02-01 have already cloned!\n"
     ]
    },
    {
     "name": "stdout",
     "output_type": "stream",
     "text": [
      "Got 140 company\n"
     ]
    },
    {
     "name": "stderr",
     "output_type": "stream",
     "text": [
      "2022-06-18 03:23:37,238 : INFO : data GMD from 2015-01-01 to 2022-02-01 have already cloned!\n"
     ]
    },
    {
     "name": "stdout",
     "output_type": "stream",
     "text": [
      "Got 141 company\n"
     ]
    },
    {
     "name": "stderr",
     "output_type": "stream",
     "text": [
      "2022-06-18 03:23:37,853 : INFO : data GMH from 2015-01-01 to 2022-02-01 have already cloned!\n"
     ]
    },
    {
     "name": "stdout",
     "output_type": "stream",
     "text": [
      "Got 142 company\n"
     ]
    },
    {
     "name": "stderr",
     "output_type": "stream",
     "text": [
      "2022-06-18 03:24:01,679 : INFO : data GSP from 2015-01-01 to 2022-02-01 have already cloned!\n"
     ]
    },
    {
     "name": "stdout",
     "output_type": "stream",
     "text": [
      "Got 143 company\n"
     ]
    },
    {
     "name": "stderr",
     "output_type": "stream",
     "text": [
      "2022-06-18 03:24:26,627 : INFO : data GTA from 2015-01-01 to 2022-02-01 have already cloned!\n"
     ]
    },
    {
     "name": "stdout",
     "output_type": "stream",
     "text": [
      "Got 144 company\n"
     ]
    },
    {
     "name": "stderr",
     "output_type": "stream",
     "text": [
      "2022-06-18 03:24:39,556 : INFO : data GVR from 2015-01-01 to 2022-02-01 have already cloned!\n"
     ]
    },
    {
     "name": "stdout",
     "output_type": "stream",
     "text": [
      "Got 145 company\n"
     ]
    },
    {
     "name": "stderr",
     "output_type": "stream",
     "text": [
      "2022-06-18 03:25:04,043 : INFO : data HAG from 2015-01-01 to 2022-02-01 have already cloned!\n"
     ]
    },
    {
     "name": "stdout",
     "output_type": "stream",
     "text": [
      "Got 146 company\n"
     ]
    },
    {
     "name": "stderr",
     "output_type": "stream",
     "text": [
      "2022-06-18 03:25:33,507 : INFO : data HAH from 2015-01-01 to 2022-02-01 have already cloned!\n"
     ]
    },
    {
     "name": "stdout",
     "output_type": "stream",
     "text": [
      "Got 147 company\n"
     ]
    },
    {
     "name": "stderr",
     "output_type": "stream",
     "text": [
      "2022-06-18 03:25:58,557 : INFO : data HAI from 2015-01-01 to 2022-02-01 have already cloned!\n"
     ]
    },
    {
     "name": "stdout",
     "output_type": "stream",
     "text": [
      "Got 148 company\n"
     ]
    },
    {
     "name": "stderr",
     "output_type": "stream",
     "text": [
      "2022-06-18 03:26:24,747 : INFO : data HAP from 2015-01-01 to 2022-02-01 have already cloned!\n"
     ]
    },
    {
     "name": "stdout",
     "output_type": "stream",
     "text": [
      "Got 149 company\n"
     ]
    },
    {
     "name": "stderr",
     "output_type": "stream",
     "text": [
      "2022-06-18 03:26:48,803 : INFO : data HAR from 2015-01-01 to 2022-02-01 have already cloned!\n"
     ]
    },
    {
     "name": "stdout",
     "output_type": "stream",
     "text": [
      "Got 150 company\n"
     ]
    },
    {
     "name": "stderr",
     "output_type": "stream",
     "text": [
      "2022-06-18 03:27:14,797 : INFO : data HAS from 2015-01-01 to 2022-02-01 have already cloned!\n"
     ]
    },
    {
     "name": "stdout",
     "output_type": "stream",
     "text": [
      "Got 151 company\n"
     ]
    },
    {
     "name": "stderr",
     "output_type": "stream",
     "text": [
      "2022-06-18 03:27:39,227 : INFO : data HAX from 2015-01-01 to 2022-02-01 have already cloned!\n"
     ]
    },
    {
     "name": "stdout",
     "output_type": "stream",
     "text": [
      "Got 152 company\n"
     ]
    },
    {
     "name": "stderr",
     "output_type": "stream",
     "text": [
      "2022-06-18 03:28:04,884 : INFO : data HBC from 2015-01-01 to 2022-02-01 have already cloned!\n"
     ]
    },
    {
     "name": "stdout",
     "output_type": "stream",
     "text": [
      "Got 153 company\n"
     ]
    },
    {
     "name": "stderr",
     "output_type": "stream",
     "text": [
      "2022-06-18 03:28:24,100 : INFO : data HCD from 2015-01-01 to 2022-02-01 have already cloned!\n"
     ]
    },
    {
     "name": "stdout",
     "output_type": "stream",
     "text": [
      "Got 154 company\n"
     ]
    },
    {
     "name": "stderr",
     "output_type": "stream",
     "text": [
      "2022-06-18 03:28:48,892 : INFO : data HCM from 2015-01-01 to 2022-02-01 have already cloned!\n"
     ]
    },
    {
     "name": "stdout",
     "output_type": "stream",
     "text": [
      "Got 155 company\n"
     ]
    },
    {
     "name": "stderr",
     "output_type": "stream",
     "text": [
      "2022-06-18 03:29:02,548 : INFO : data HDB from 2015-01-01 to 2022-02-01 have already cloned!\n"
     ]
    },
    {
     "name": "stdout",
     "output_type": "stream",
     "text": [
      "Got 156 company\n"
     ]
    },
    {
     "name": "stderr",
     "output_type": "stream",
     "text": [
      "2022-06-18 03:29:27,480 : INFO : data HDC from 2015-01-01 to 2022-02-01 have already cloned!\n"
     ]
    },
    {
     "name": "stdout",
     "output_type": "stream",
     "text": [
      "Got 157 company\n"
     ]
    },
    {
     "name": "stderr",
     "output_type": "stream",
     "text": [
      "2022-06-18 03:29:52,195 : INFO : data HDG from 2015-01-01 to 2022-02-01 have already cloned!\n"
     ]
    },
    {
     "name": "stdout",
     "output_type": "stream",
     "text": [
      "Got 158 company\n"
     ]
    },
    {
     "name": "stderr",
     "output_type": "stream",
     "text": [
      "2022-06-18 03:30:04,219 : INFO : data HHP from 2015-01-01 to 2022-02-01 have already cloned!\n"
     ]
    },
    {
     "name": "stdout",
     "output_type": "stream",
     "text": [
      "Got 159 company\n"
     ]
    },
    {
     "name": "stderr",
     "output_type": "stream",
     "text": [
      "2022-06-18 03:30:28,889 : INFO : data HHS from 2015-01-01 to 2022-02-01 have already cloned!\n"
     ]
    },
    {
     "name": "stdout",
     "output_type": "stream",
     "text": [
      "Got 160 company\n"
     ]
    },
    {
     "name": "stderr",
     "output_type": "stream",
     "text": [
      "2022-06-18 03:30:49,918 : INFO : data HHV from 2015-01-01 to 2022-02-01 have already cloned!\n"
     ]
    },
    {
     "name": "stdout",
     "output_type": "stream",
     "text": [
      "Got 161 company\n"
     ]
    },
    {
     "name": "stderr",
     "output_type": "stream",
     "text": [
      "2022-06-18 03:31:11,057 : INFO : data HID from 2015-01-01 to 2022-02-01 have already cloned!\n"
     ]
    },
    {
     "name": "stdout",
     "output_type": "stream",
     "text": [
      "Got 162 company\n"
     ]
    },
    {
     "name": "stderr",
     "output_type": "stream",
     "text": [
      "2022-06-18 03:31:26,346 : INFO : data HII from 2015-01-01 to 2022-02-01 have already cloned!\n"
     ]
    },
    {
     "name": "stdout",
     "output_type": "stream",
     "text": [
      "Got 163 company\n"
     ]
    },
    {
     "name": "stderr",
     "output_type": "stream",
     "text": [
      "2022-06-18 03:31:51,823 : INFO : data HMC from 2015-01-01 to 2022-02-01 have already cloned!\n"
     ]
    },
    {
     "name": "stdout",
     "output_type": "stream",
     "text": [
      "Got 164 company\n"
     ]
    },
    {
     "name": "stderr",
     "output_type": "stream",
     "text": [
      "2022-06-18 03:32:13,392 : INFO : data HNG from 2015-01-01 to 2022-02-01 have already cloned!\n"
     ]
    },
    {
     "name": "stdout",
     "output_type": "stream",
     "text": [
      "Got 165 company\n"
     ]
    },
    {
     "name": "stderr",
     "output_type": "stream",
     "text": [
      "2022-06-18 03:32:37,797 : INFO : data HOT from 2015-01-01 to 2022-02-01 have already cloned!\n"
     ]
    },
    {
     "name": "stdout",
     "output_type": "stream",
     "text": [
      "Got 166 company\n"
     ]
    },
    {
     "name": "stderr",
     "output_type": "stream",
     "text": [
      "2022-06-18 03:33:03,069 : INFO : data HPG from 2015-01-01 to 2022-02-01 have already cloned!\n"
     ]
    },
    {
     "name": "stdout",
     "output_type": "stream",
     "text": [
      "Got 167 company\n"
     ]
    },
    {
     "name": "stderr",
     "output_type": "stream",
     "text": [
      "2022-06-18 03:33:15,591 : INFO : data HPX from 2015-01-01 to 2022-02-01 have already cloned!\n"
     ]
    },
    {
     "name": "stdout",
     "output_type": "stream",
     "text": [
      "Got 168 company\n"
     ]
    },
    {
     "name": "stderr",
     "output_type": "stream",
     "text": [
      "2022-06-18 03:33:40,098 : INFO : data HQC from 2015-01-01 to 2022-02-01 have already cloned!\n"
     ]
    },
    {
     "name": "stdout",
     "output_type": "stream",
     "text": [
      "Got 169 company\n"
     ]
    },
    {
     "name": "stderr",
     "output_type": "stream",
     "text": [
      "2022-06-18 03:34:04,824 : INFO : data HRC from 2015-01-01 to 2022-02-01 have already cloned!\n"
     ]
    },
    {
     "name": "stdout",
     "output_type": "stream",
     "text": [
      "Got 170 company\n"
     ]
    },
    {
     "name": "stderr",
     "output_type": "stream",
     "text": [
      "2022-06-18 03:34:29,626 : INFO : data HSG from 2015-01-01 to 2022-02-01 have already cloned!\n"
     ]
    },
    {
     "name": "stdout",
     "output_type": "stream",
     "text": [
      "Got 171 company\n"
     ]
    },
    {
     "name": "stderr",
     "output_type": "stream",
     "text": [
      "2022-06-18 03:34:41,923 : INFO : data HSL from 2015-01-01 to 2022-02-01 have already cloned!\n"
     ]
    },
    {
     "name": "stdout",
     "output_type": "stream",
     "text": [
      "Got 172 company\n"
     ]
    },
    {
     "name": "stderr",
     "output_type": "stream",
     "text": [
      "2022-06-18 03:35:06,891 : INFO : data HT1 from 2015-01-01 to 2022-02-01 have already cloned!\n"
     ]
    },
    {
     "name": "stdout",
     "output_type": "stream",
     "text": [
      "Got 173 company\n"
     ]
    },
    {
     "name": "stderr",
     "output_type": "stream",
     "text": [
      "2022-06-18 03:35:32,187 : INFO : data HTI from 2015-01-01 to 2022-02-01 have already cloned!\n"
     ]
    },
    {
     "name": "stdout",
     "output_type": "stream",
     "text": [
      "Got 174 company\n"
     ]
    },
    {
     "name": "stderr",
     "output_type": "stream",
     "text": [
      "2022-06-18 03:35:57,353 : INFO : data HTL from 2015-01-01 to 2022-02-01 have already cloned!\n"
     ]
    },
    {
     "name": "stdout",
     "output_type": "stream",
     "text": [
      "Got 175 company\n"
     ]
    },
    {
     "name": "stderr",
     "output_type": "stream",
     "text": [
      "2022-06-18 03:36:08,408 : INFO : data HTN from 2015-01-01 to 2022-02-01 have already cloned!\n"
     ]
    },
    {
     "name": "stdout",
     "output_type": "stream",
     "text": [
      "Got 176 company\n"
     ]
    },
    {
     "name": "stderr",
     "output_type": "stream",
     "text": [
      "2022-06-18 03:36:34,538 : INFO : data HTV from 2015-01-01 to 2022-02-01 have already cloned!\n"
     ]
    },
    {
     "name": "stdout",
     "output_type": "stream",
     "text": [
      "Got 177 company\n"
     ]
    },
    {
     "name": "stderr",
     "output_type": "stream",
     "text": [
      "2022-06-18 03:36:59,281 : INFO : data HU1 from 2015-01-01 to 2022-02-01 have already cloned!\n"
     ]
    },
    {
     "name": "stdout",
     "output_type": "stream",
     "text": [
      "Got 178 company\n"
     ]
    },
    {
     "name": "stderr",
     "output_type": "stream",
     "text": [
      "2022-06-18 03:37:23,271 : INFO : data HU3 from 2015-01-01 to 2022-02-01 have already cloned!\n"
     ]
    },
    {
     "name": "stdout",
     "output_type": "stream",
     "text": [
      "Got 179 company\n"
     ]
    },
    {
     "name": "stderr",
     "output_type": "stream",
     "text": [
      "2022-06-18 03:37:33,406 : INFO : data HUB from 2015-01-01 to 2022-02-01 have already cloned!\n"
     ]
    },
    {
     "name": "stdout",
     "output_type": "stream",
     "text": [
      "Got 180 company\n"
     ]
    },
    {
     "name": "stderr",
     "output_type": "stream",
     "text": [
      "2022-06-18 03:37:44,232 : INFO : data HVH from 2015-01-01 to 2022-02-01 have already cloned!\n"
     ]
    },
    {
     "name": "stdout",
     "output_type": "stream",
     "text": [
      "Got 181 company\n"
     ]
    },
    {
     "name": "stderr",
     "output_type": "stream",
     "text": [
      "2022-06-18 03:38:01,076 : INFO : data HVN from 2015-01-01 to 2022-02-01 have already cloned!\n"
     ]
    },
    {
     "name": "stdout",
     "output_type": "stream",
     "text": [
      "Got 182 company\n"
     ]
    },
    {
     "name": "stderr",
     "output_type": "stream",
     "text": [
      "2022-06-18 03:38:25,351 : INFO : data HVX from 2015-01-01 to 2022-02-01 have already cloned!\n"
     ]
    },
    {
     "name": "stdout",
     "output_type": "stream",
     "text": [
      "Got 183 company\n"
     ]
    },
    {
     "name": "stderr",
     "output_type": "stream",
     "text": [
      "2022-06-18 03:38:42,849 : INFO : data IBC from 2015-01-01 to 2022-02-01 have already cloned!\n"
     ]
    },
    {
     "name": "stdout",
     "output_type": "stream",
     "text": [
      "Got 184 company\n"
     ]
    },
    {
     "name": "stderr",
     "output_type": "stream",
     "text": [
      "2022-06-18 03:38:50,098 : INFO : data ICT from 2015-01-01 to 2022-02-01 have already cloned!\n"
     ]
    },
    {
     "name": "stdout",
     "output_type": "stream",
     "text": [
      "Got 185 company\n"
     ]
    },
    {
     "name": "stderr",
     "output_type": "stream",
     "text": [
      "2022-06-18 03:39:14,455 : INFO : data IDI from 2015-01-01 to 2022-02-01 have already cloned!\n"
     ]
    },
    {
     "name": "stdout",
     "output_type": "stream",
     "text": [
      "Got 186 company\n"
     ]
    },
    {
     "name": "stderr",
     "output_type": "stream",
     "text": [
      "2022-06-18 03:39:37,973 : INFO : data IJC from 2015-01-01 to 2022-02-01 have already cloned!\n"
     ]
    },
    {
     "name": "stdout",
     "output_type": "stream",
     "text": [
      "Got 187 company\n"
     ]
    },
    {
     "name": "stderr",
     "output_type": "stream",
     "text": [
      "2022-06-18 03:39:47,668 : INFO : data ILB from 2015-01-01 to 2022-02-01 have already cloned!\n"
     ]
    },
    {
     "name": "stdout",
     "output_type": "stream",
     "text": [
      "Got 188 company\n"
     ]
    },
    {
     "name": "stderr",
     "output_type": "stream",
     "text": [
      "2022-06-18 03:40:12,462 : INFO : data IMP from 2015-01-01 to 2022-02-01 have already cloned!\n"
     ]
    },
    {
     "name": "stdout",
     "output_type": "stream",
     "text": [
      "Got 189 company\n"
     ]
    },
    {
     "name": "stderr",
     "output_type": "stream",
     "text": [
      "2022-06-18 03:40:39,015 : INFO : data ITA from 2015-01-01 to 2022-02-01 have already cloned!\n"
     ]
    },
    {
     "name": "stdout",
     "output_type": "stream",
     "text": [
      "Got 190 company\n"
     ]
    },
    {
     "name": "stderr",
     "output_type": "stream",
     "text": [
      "2022-06-18 03:41:03,457 : INFO : data ITC from 2015-01-01 to 2022-02-01 have already cloned!\n"
     ]
    },
    {
     "name": "stdout",
     "output_type": "stream",
     "text": [
      "Got 191 company\n"
     ]
    },
    {
     "name": "stderr",
     "output_type": "stream",
     "text": [
      "2022-06-18 03:41:28,314 : INFO : data ITD from 2015-01-01 to 2022-02-01 have already cloned!\n"
     ]
    },
    {
     "name": "stdout",
     "output_type": "stream",
     "text": [
      "Got 192 company\n"
     ]
    },
    {
     "name": "stderr",
     "output_type": "stream",
     "text": [
      "2022-06-18 03:41:52,699 : INFO : data JVC from 2015-01-01 to 2022-02-01 have already cloned!\n"
     ]
    },
    {
     "name": "stdout",
     "output_type": "stream",
     "text": [
      "Got 193 company\n"
     ]
    },
    {
     "name": "stderr",
     "output_type": "stream",
     "text": [
      "2022-06-18 03:42:17,695 : INFO : data KBC from 2015-01-01 to 2022-02-01 have already cloned!\n"
     ]
    },
    {
     "name": "stdout",
     "output_type": "stream",
     "text": [
      "Got 194 company\n"
     ]
    },
    {
     "name": "stderr",
     "output_type": "stream",
     "text": [
      "2022-06-18 03:42:42,914 : INFO : data KDC from 2015-01-01 to 2022-02-01 have already cloned!\n"
     ]
    },
    {
     "name": "stdout",
     "output_type": "stream",
     "text": [
      "Got 195 company\n"
     ]
    },
    {
     "name": "stderr",
     "output_type": "stream",
     "text": [
      "2022-06-18 03:43:07,465 : INFO : data KDH from 2015-01-01 to 2022-02-01 have already cloned!\n"
     ]
    },
    {
     "name": "stdout",
     "output_type": "stream",
     "text": [
      "Got 196 company\n"
     ]
    },
    {
     "name": "stderr",
     "output_type": "stream",
     "text": [
      "2022-06-18 03:43:09,537 : INFO : data KHG from 2015-01-01 to 2022-02-01 have already cloned!\n"
     ]
    },
    {
     "name": "stdout",
     "output_type": "stream",
     "text": [
      "Got 197 company\n"
     ]
    },
    {
     "name": "stderr",
     "output_type": "stream",
     "text": [
      "2022-06-18 03:43:34,755 : INFO : data KHP from 2015-01-01 to 2022-02-01 have already cloned!\n"
     ]
    },
    {
     "name": "stdout",
     "output_type": "stream",
     "text": [
      "Got 198 company\n"
     ]
    },
    {
     "name": "stderr",
     "output_type": "stream",
     "text": [
      "2022-06-18 03:43:59,903 : INFO : data KMR from 2015-01-01 to 2022-02-01 have already cloned!\n"
     ]
    },
    {
     "name": "stdout",
     "output_type": "stream",
     "text": [
      "Got 199 company\n"
     ]
    },
    {
     "name": "stderr",
     "output_type": "stream",
     "text": [
      "2022-06-18 03:44:14,630 : INFO : data KOS from 2015-01-01 to 2022-02-01 have already cloned!\n"
     ]
    },
    {
     "name": "stdout",
     "output_type": "stream",
     "text": [
      "Got 200 company\n"
     ]
    },
    {
     "name": "stderr",
     "output_type": "stream",
     "text": [
      "2022-06-18 03:44:34,641 : INFO : data KPF from 2015-01-01 to 2022-02-01 have already cloned!\n"
     ]
    },
    {
     "name": "stdout",
     "output_type": "stream",
     "text": [
      "Got 201 company\n"
     ]
    },
    {
     "name": "stderr",
     "output_type": "stream",
     "text": [
      "2022-06-18 03:44:59,664 : INFO : data KSB from 2015-01-01 to 2022-02-01 have already cloned!\n"
     ]
    },
    {
     "name": "stdout",
     "output_type": "stream",
     "text": [
      "Got 202 company\n"
     ]
    },
    {
     "name": "stderr",
     "output_type": "stream",
     "text": [
      "2022-06-18 03:45:24,749 : INFO : data L10 from 2015-01-01 to 2022-02-01 have already cloned!\n"
     ]
    },
    {
     "name": "stdout",
     "output_type": "stream",
     "text": [
      "Got 203 company\n"
     ]
    },
    {
     "name": "stderr",
     "output_type": "stream",
     "text": [
      "2022-06-18 03:45:50,539 : INFO : data LAF from 2015-01-01 to 2022-02-01 have already cloned!\n"
     ]
    },
    {
     "name": "stdout",
     "output_type": "stream",
     "text": [
      "Got 204 company\n"
     ]
    },
    {
     "name": "stderr",
     "output_type": "stream",
     "text": [
      "2022-06-18 03:46:18,853 : INFO : data LBM from 2015-01-01 to 2022-02-01 have already cloned!\n"
     ]
    },
    {
     "name": "stdout",
     "output_type": "stream",
     "text": [
      "Got 205 company\n"
     ]
    },
    {
     "name": "stderr",
     "output_type": "stream",
     "text": [
      "2022-06-18 03:46:45,437 : INFO : data LCG from 2015-01-01 to 2022-02-01 have already cloned!\n"
     ]
    },
    {
     "name": "stdout",
     "output_type": "stream",
     "text": [
      "Got 206 company\n"
     ]
    },
    {
     "name": "stderr",
     "output_type": "stream",
     "text": [
      "2022-06-18 03:47:09,669 : INFO : data LCM from 2015-01-01 to 2022-02-01 have already cloned!\n"
     ]
    },
    {
     "name": "stdout",
     "output_type": "stream",
     "text": [
      "Got 207 company\n"
     ]
    },
    {
     "name": "stderr",
     "output_type": "stream",
     "text": [
      "2022-06-18 03:47:31,663 : INFO : data LDG from 2015-01-01 to 2022-02-01 have already cloned!\n"
     ]
    },
    {
     "name": "stdout",
     "output_type": "stream",
     "text": [
      "Got 208 company\n"
     ]
    },
    {
     "name": "stderr",
     "output_type": "stream",
     "text": [
      "2022-06-18 03:47:47,285 : INFO : data LEC from 2015-01-01 to 2022-02-01 have already cloned!\n"
     ]
    },
    {
     "name": "stdout",
     "output_type": "stream",
     "text": [
      "Got 209 company\n"
     ]
    },
    {
     "name": "stderr",
     "output_type": "stream",
     "text": [
      "2022-06-18 03:48:13,053 : INFO : data LGC from 2015-01-01 to 2022-02-01 have already cloned!\n"
     ]
    },
    {
     "name": "stdout",
     "output_type": "stream",
     "text": [
      "Got 210 company\n"
     ]
    },
    {
     "name": "stderr",
     "output_type": "stream",
     "text": [
      "2022-06-18 03:48:38,188 : INFO : data LGL from 2015-01-01 to 2022-02-01 have already cloned!\n"
     ]
    },
    {
     "name": "stdout",
     "output_type": "stream",
     "text": [
      "Got 211 company\n"
     ]
    },
    {
     "name": "stderr",
     "output_type": "stream",
     "text": [
      "2022-06-18 03:49:03,365 : INFO : data LHG from 2015-01-01 to 2022-02-01 have already cloned!\n"
     ]
    },
    {
     "name": "stdout",
     "output_type": "stream",
     "text": [
      "Got 212 company\n"
     ]
    },
    {
     "name": "stderr",
     "output_type": "stream",
     "text": [
      "2022-06-18 03:49:28,084 : INFO : data LIX from 2015-01-01 to 2022-02-01 have already cloned!\n"
     ]
    },
    {
     "name": "stdout",
     "output_type": "stream",
     "text": [
      "Got 213 company\n"
     ]
    },
    {
     "name": "stderr",
     "output_type": "stream",
     "text": [
      "2022-06-18 03:49:52,751 : INFO : data LM8 from 2015-01-01 to 2022-02-01 have already cloned!\n"
     ]
    },
    {
     "name": "stdout",
     "output_type": "stream",
     "text": [
      "Got 214 company\n"
     ]
    },
    {
     "name": "stderr",
     "output_type": "stream",
     "text": [
      "2022-06-18 03:50:07,430 : INFO : data LPB from 2015-01-01 to 2022-02-01 have already cloned!\n"
     ]
    },
    {
     "name": "stdout",
     "output_type": "stream",
     "text": [
      "Got 215 company\n"
     ]
    },
    {
     "name": "stderr",
     "output_type": "stream",
     "text": [
      "2022-06-18 03:50:33,853 : INFO : data LSS from 2015-01-01 to 2022-02-01 have already cloned!\n"
     ]
    },
    {
     "name": "stdout",
     "output_type": "stream",
     "text": [
      "Got 216 company\n"
     ]
    },
    {
     "name": "stderr",
     "output_type": "stream",
     "text": [
      "2022-06-18 03:50:58,767 : INFO : data MBB from 2015-01-01 to 2022-02-01 have already cloned!\n"
     ]
    },
    {
     "name": "stdout",
     "output_type": "stream",
     "text": [
      "Got 217 company\n"
     ]
    },
    {
     "name": "stderr",
     "output_type": "stream",
     "text": [
      "2022-06-18 03:51:46,050 : INFO : data MCG from 2015-01-01 to 2022-02-01 have already cloned!\n"
     ]
    },
    {
     "name": "stdout",
     "output_type": "stream",
     "text": [
      "Got 218 company\n"
     ]
    },
    {
     "name": "stderr",
     "output_type": "stream",
     "text": [
      "2022-06-18 03:52:11,084 : INFO : data MCP from 2015-01-01 to 2022-02-01 have already cloned!\n"
     ]
    },
    {
     "name": "stdout",
     "output_type": "stream",
     "text": [
      "Got 219 company\n"
     ]
    },
    {
     "name": "stderr",
     "output_type": "stream",
     "text": [
      "2022-06-18 03:52:35,201 : INFO : data MDG from 2015-01-01 to 2022-02-01 have already cloned!\n"
     ]
    },
    {
     "name": "stdout",
     "output_type": "stream",
     "text": [
      "Got 220 company\n"
     ]
    },
    {
     "name": "stderr",
     "output_type": "stream",
     "text": [
      "2022-06-18 03:53:00,246 : INFO : data MHC from 2015-01-01 to 2022-02-01 have already cloned!\n"
     ]
    },
    {
     "name": "stdout",
     "output_type": "stream",
     "text": [
      "Got 221 company\n"
     ]
    },
    {
     "name": "stderr",
     "output_type": "stream",
     "text": [
      "2022-06-18 03:53:15,816 : INFO : data MIG from 2015-01-01 to 2022-02-01 have already cloned!\n"
     ]
    },
    {
     "name": "stdout",
     "output_type": "stream",
     "text": [
      "Got 222 company\n"
     ]
    },
    {
     "name": "stderr",
     "output_type": "stream",
     "text": [
      "2022-06-18 03:53:19,509 : INFO : data MSB from 2015-01-01 to 2022-02-01 have already cloned!\n"
     ]
    },
    {
     "name": "stdout",
     "output_type": "stream",
     "text": [
      "Got 223 company\n"
     ]
    },
    {
     "name": "stderr",
     "output_type": "stream",
     "text": [
      "2022-06-18 03:53:30,464 : INFO : data MSH from 2015-01-01 to 2022-02-01 have already cloned!\n"
     ]
    },
    {
     "name": "stdout",
     "output_type": "stream",
     "text": [
      "Got 224 company\n"
     ]
    },
    {
     "name": "stderr",
     "output_type": "stream",
     "text": [
      "2022-06-18 03:53:57,191 : INFO : data MSN from 2015-01-01 to 2022-02-01 have already cloned!\n"
     ]
    },
    {
     "name": "stdout",
     "output_type": "stream",
     "text": [
      "Got 225 company\n"
     ]
    },
    {
     "name": "stderr",
     "output_type": "stream",
     "text": [
      "2022-06-18 03:54:21,595 : INFO : data MWG from 2015-01-01 to 2022-02-01 have already cloned!\n"
     ]
    },
    {
     "name": "stdout",
     "output_type": "stream",
     "text": [
      "Got 226 company\n"
     ]
    },
    {
     "name": "stderr",
     "output_type": "stream",
     "text": [
      "2022-06-18 03:54:42,963 : INFO : data NAF from 2015-01-01 to 2022-02-01 have already cloned!\n"
     ]
    },
    {
     "name": "stdout",
     "output_type": "stream",
     "text": [
      "Got 227 company\n"
     ]
    },
    {
     "name": "stderr",
     "output_type": "stream",
     "text": [
      "2022-06-18 03:55:10,721 : INFO : data NAV from 2015-01-01 to 2022-02-01 have already cloned!\n"
     ]
    },
    {
     "name": "stdout",
     "output_type": "stream",
     "text": [
      "Got 228 company\n"
     ]
    },
    {
     "name": "stderr",
     "output_type": "stream",
     "text": [
      "2022-06-18 03:55:38,480 : INFO : data NBB from 2015-01-01 to 2022-02-01 have already cloned!\n"
     ]
    },
    {
     "name": "stdout",
     "output_type": "stream",
     "text": [
      "Got 229 company\n"
     ]
    },
    {
     "name": "stderr",
     "output_type": "stream",
     "text": [
      "2022-06-18 03:56:02,184 : INFO : data NCT from 2015-01-01 to 2022-02-01 have already cloned!\n"
     ]
    },
    {
     "name": "stdout",
     "output_type": "stream",
     "text": [
      "Got 230 company\n"
     ]
    },
    {
     "name": "stderr",
     "output_type": "stream",
     "text": [
      "2022-06-18 03:56:26,814 : INFO : data NHA from 2015-01-01 to 2022-02-01 have already cloned!\n"
     ]
    },
    {
     "name": "stdout",
     "output_type": "stream",
     "text": [
      "Got 231 company\n"
     ]
    },
    {
     "name": "stderr",
     "output_type": "stream",
     "text": [
      "2022-06-18 03:56:41,834 : INFO : data NHH from 2015-01-01 to 2022-02-01 have already cloned!\n"
     ]
    },
    {
     "name": "stdout",
     "output_type": "stream",
     "text": [
      "Got 232 company\n"
     ]
    },
    {
     "name": "stderr",
     "output_type": "stream",
     "text": [
      "2022-06-18 03:56:55,968 : INFO : data NHT from 2015-01-01 to 2022-02-01 have already cloned!\n"
     ]
    },
    {
     "name": "stdout",
     "output_type": "stream",
     "text": [
      "Got 233 company\n"
     ]
    },
    {
     "name": "stderr",
     "output_type": "stream",
     "text": [
      "2022-06-18 03:57:20,652 : INFO : data NKG from 2015-01-01 to 2022-02-01 have already cloned!\n"
     ]
    },
    {
     "name": "stdout",
     "output_type": "stream",
     "text": [
      "Got 234 company\n"
     ]
    },
    {
     "name": "stderr",
     "output_type": "stream",
     "text": [
      "2022-06-18 03:57:44,793 : INFO : data NLG from 2015-01-01 to 2022-02-01 have already cloned!\n"
     ]
    },
    {
     "name": "stdout",
     "output_type": "stream",
     "text": [
      "Got 235 company\n"
     ]
    },
    {
     "name": "stderr",
     "output_type": "stream",
     "text": [
      "2022-06-18 03:58:09,635 : INFO : data NNC from 2015-01-01 to 2022-02-01 have already cloned!\n"
     ]
    },
    {
     "name": "stdout",
     "output_type": "stream",
     "text": [
      "Got 236 company\n"
     ]
    },
    {
     "name": "stderr",
     "output_type": "stream",
     "text": [
      "2022-06-18 03:58:34,926 : INFO : data NSC from 2015-01-01 to 2022-02-01 have already cloned!\n"
     ]
    },
    {
     "name": "stdout",
     "output_type": "stream",
     "text": [
      "Got 237 company\n"
     ]
    },
    {
     "name": "stderr",
     "output_type": "stream",
     "text": [
      "2022-06-18 03:58:59,673 : INFO : data NT2 from 2015-01-01 to 2022-02-01 have already cloned!\n"
     ]
    },
    {
     "name": "stdout",
     "output_type": "stream",
     "text": [
      "Got 238 company\n"
     ]
    },
    {
     "name": "stderr",
     "output_type": "stream",
     "text": [
      "2022-06-18 03:59:24,985 : INFO : data NTL from 2015-01-01 to 2022-02-01 have already cloned!\n"
     ]
    },
    {
     "name": "stdout",
     "output_type": "stream",
     "text": [
      "Got 239 company\n"
     ]
    },
    {
     "name": "stderr",
     "output_type": "stream",
     "text": [
      "2022-06-18 03:59:42,081 : INFO : data NVL from 2015-01-01 to 2022-02-01 have already cloned!\n"
     ]
    },
    {
     "name": "stdout",
     "output_type": "stream",
     "text": [
      "Got 240 company\n"
     ]
    },
    {
     "name": "stderr",
     "output_type": "stream",
     "text": [
      "2022-06-18 04:00:07,072 : INFO : data NVT from 2015-01-01 to 2022-02-01 have already cloned!\n"
     ]
    },
    {
     "name": "stdout",
     "output_type": "stream",
     "text": [
      "Got 241 company\n"
     ]
    },
    {
     "name": "stderr",
     "output_type": "stream",
     "text": [
      "2022-06-18 04:00:10,867 : INFO : data OCB from 2015-01-01 to 2022-02-01 have already cloned!\n"
     ]
    },
    {
     "name": "stdout",
     "output_type": "stream",
     "text": [
      "Got 242 company\n"
     ]
    },
    {
     "name": "stderr",
     "output_type": "stream",
     "text": [
      "2022-06-18 04:00:36,508 : INFO : data OGC from 2015-01-01 to 2022-02-01 have already cloned!\n"
     ]
    },
    {
     "name": "stdout",
     "output_type": "stream",
     "text": [
      "Got 243 company\n"
     ]
    },
    {
     "name": "stderr",
     "output_type": "stream",
     "text": [
      "2022-06-18 04:01:04,225 : INFO : data OPC from 2015-01-01 to 2022-02-01 have already cloned!\n"
     ]
    },
    {
     "name": "stdout",
     "output_type": "stream",
     "text": [
      "Got 244 company\n"
     ]
    },
    {
     "name": "stderr",
     "output_type": "stream",
     "text": [
      "2022-06-18 04:01:29,124 : INFO : data ORS from 2015-01-01 to 2022-02-01 have already cloned!\n"
     ]
    },
    {
     "name": "stdout",
     "output_type": "stream",
     "text": [
      "Got 245 company\n"
     ]
    },
    {
     "name": "stderr",
     "output_type": "stream",
     "text": [
      "2022-06-18 04:01:55,597 : INFO : data PAC from 2015-01-01 to 2022-02-01 have already cloned!\n"
     ]
    },
    {
     "name": "stdout",
     "output_type": "stream",
     "text": [
      "Got 246 company\n"
     ]
    },
    {
     "name": "stderr",
     "output_type": "stream",
     "text": [
      "2022-06-18 04:02:45,664 : INFO : data PAN from 2015-01-01 to 2022-02-01 have already cloned!\n"
     ]
    },
    {
     "name": "stdout",
     "output_type": "stream",
     "text": [
      "Got 247 company\n"
     ]
    },
    {
     "name": "stderr",
     "output_type": "stream",
     "text": [
      "2022-06-18 04:03:02,553 : INFO : data PC1 from 2015-01-01 to 2022-02-01 have already cloned!\n"
     ]
    },
    {
     "name": "stdout",
     "output_type": "stream",
     "text": [
      "Got 248 company\n"
     ]
    },
    {
     "name": "stderr",
     "output_type": "stream",
     "text": [
      "2022-06-18 04:03:26,831 : INFO : data PDN from 2015-01-01 to 2022-02-01 have already cloned!\n"
     ]
    },
    {
     "name": "stdout",
     "output_type": "stream",
     "text": [
      "Got 249 company\n"
     ]
    },
    {
     "name": "stderr",
     "output_type": "stream",
     "text": [
      "2022-06-18 04:03:51,026 : INFO : data PDR from 2015-01-01 to 2022-02-01 have already cloned!\n"
     ]
    },
    {
     "name": "stdout",
     "output_type": "stream",
     "text": [
      "Got 250 company\n"
     ]
    },
    {
     "name": "stderr",
     "output_type": "stream",
     "text": [
      "2022-06-18 04:04:16,003 : INFO : data PET from 2015-01-01 to 2022-02-01 have already cloned!\n"
     ]
    },
    {
     "name": "stdout",
     "output_type": "stream",
     "text": [
      "Got 251 company\n"
     ]
    },
    {
     "name": "stderr",
     "output_type": "stream",
     "text": [
      "2022-06-18 04:04:41,688 : INFO : data PGC from 2015-01-01 to 2022-02-01 have already cloned!\n"
     ]
    },
    {
     "name": "stdout",
     "output_type": "stream",
     "text": [
      "Got 252 company\n"
     ]
    },
    {
     "name": "stderr",
     "output_type": "stream",
     "text": [
      "2022-06-18 04:05:06,373 : INFO : data PGD from 2015-01-01 to 2022-02-01 have already cloned!\n"
     ]
    },
    {
     "name": "stdout",
     "output_type": "stream",
     "text": [
      "Got 253 company\n"
     ]
    },
    {
     "name": "stderr",
     "output_type": "stream",
     "text": [
      "2022-06-18 04:05:31,587 : INFO : data PGI from 2015-01-01 to 2022-02-01 have already cloned!\n"
     ]
    },
    {
     "name": "stdout",
     "output_type": "stream",
     "text": [
      "Got 254 company\n"
     ]
    },
    {
     "name": "stderr",
     "output_type": "stream",
     "text": [
      "2022-06-18 04:05:45,093 : INFO : data PGV from 2015-01-01 to 2022-02-01 have already cloned!\n"
     ]
    },
    {
     "name": "stdout",
     "output_type": "stream",
     "text": [
      "Got 255 company\n"
     ]
    },
    {
     "name": "stderr",
     "output_type": "stream",
     "text": [
      "2022-06-18 04:06:10,365 : INFO : data PHC from 2015-01-01 to 2022-02-01 have already cloned!\n"
     ]
    },
    {
     "name": "stdout",
     "output_type": "stream",
     "text": [
      "Got 256 company\n"
     ]
    },
    {
     "name": "stderr",
     "output_type": "stream",
     "text": [
      "2022-06-18 04:06:35,217 : INFO : data PHR from 2015-01-01 to 2022-02-01 have already cloned!\n"
     ]
    },
    {
     "name": "stdout",
     "output_type": "stream",
     "text": [
      "Got 257 company\n"
     ]
    },
    {
     "name": "stderr",
     "output_type": "stream",
     "text": [
      "2022-06-18 04:07:00,357 : INFO : data PIT from 2015-01-01 to 2022-02-01 have already cloned!\n"
     ]
    },
    {
     "name": "stdout",
     "output_type": "stream",
     "text": [
      "Got 258 company\n"
     ]
    },
    {
     "name": "stderr",
     "output_type": "stream",
     "text": [
      "2022-06-18 04:07:25,953 : INFO : data PJT from 2015-01-01 to 2022-02-01 have already cloned!\n"
     ]
    },
    {
     "name": "stdout",
     "output_type": "stream",
     "text": [
      "Got 259 company\n"
     ]
    },
    {
     "name": "stderr",
     "output_type": "stream",
     "text": [
      "2022-06-18 04:08:04,832 : INFO : data PLP from 2015-01-01 to 2022-02-01 have already cloned!\n"
     ]
    },
    {
     "name": "stdout",
     "output_type": "stream",
     "text": [
      "Got 260 company\n"
     ]
    },
    {
     "name": "stderr",
     "output_type": "stream",
     "text": [
      "2022-06-18 04:08:20,303 : INFO : data PLX from 2015-01-01 to 2022-02-01 have already cloned!\n"
     ]
    },
    {
     "name": "stdout",
     "output_type": "stream",
     "text": [
      "Got 261 company\n"
     ]
    },
    {
     "name": "stderr",
     "output_type": "stream",
     "text": [
      "2022-06-18 04:08:33,324 : INFO : data PMG from 2015-01-01 to 2022-02-01 have already cloned!\n"
     ]
    },
    {
     "name": "stdout",
     "output_type": "stream",
     "text": [
      "Got 262 company\n"
     ]
    },
    {
     "name": "stderr",
     "output_type": "stream",
     "text": [
      "2022-06-18 04:08:57,816 : INFO : data PNC from 2015-01-01 to 2022-02-01 have already cloned!\n"
     ]
    },
    {
     "name": "stdout",
     "output_type": "stream",
     "text": [
      "Got 263 company\n"
     ]
    },
    {
     "name": "stderr",
     "output_type": "stream",
     "text": [
      "2022-06-18 04:09:22,215 : INFO : data PNJ from 2015-01-01 to 2022-02-01 have already cloned!\n"
     ]
    },
    {
     "name": "stdout",
     "output_type": "stream",
     "text": [
      "Got 264 company\n"
     ]
    },
    {
     "name": "stderr",
     "output_type": "stream",
     "text": [
      "2022-06-18 04:09:47,666 : INFO : data POM from 2015-01-01 to 2022-02-01 have already cloned!\n"
     ]
    },
    {
     "name": "stdout",
     "output_type": "stream",
     "text": [
      "Got 265 company\n"
     ]
    },
    {
     "name": "stderr",
     "output_type": "stream",
     "text": [
      "2022-06-18 04:10:00,938 : INFO : data POW from 2015-01-01 to 2022-02-01 have already cloned!\n"
     ]
    },
    {
     "name": "stdout",
     "output_type": "stream",
     "text": [
      "Got 266 company\n"
     ]
    },
    {
     "name": "stderr",
     "output_type": "stream",
     "text": [
      "2022-06-18 04:10:26,560 : INFO : data PPC from 2015-01-01 to 2022-02-01 have already cloned!\n"
     ]
    },
    {
     "name": "stdout",
     "output_type": "stream",
     "text": [
      "Got 267 company\n"
     ]
    },
    {
     "name": "stderr",
     "output_type": "stream",
     "text": [
      "2022-06-18 04:10:32,590 : INFO : data PSH from 2015-01-01 to 2022-02-01 have already cloned!\n"
     ]
    },
    {
     "name": "stdout",
     "output_type": "stream",
     "text": [
      "Got 268 company\n"
     ]
    },
    {
     "name": "stderr",
     "output_type": "stream",
     "text": [
      "2022-06-18 04:10:57,934 : INFO : data PTB from 2015-01-01 to 2022-02-01 have already cloned!\n"
     ]
    },
    {
     "name": "stdout",
     "output_type": "stream",
     "text": [
      "Got 269 company\n"
     ]
    },
    {
     "name": "stderr",
     "output_type": "stream",
     "text": [
      "2022-06-18 04:11:23,851 : INFO : data PTC from 2015-01-01 to 2022-02-01 have already cloned!\n"
     ]
    },
    {
     "name": "stdout",
     "output_type": "stream",
     "text": [
      "Got 270 company\n"
     ]
    },
    {
     "name": "stderr",
     "output_type": "stream",
     "text": [
      "2022-06-18 04:11:48,387 : INFO : data PTL from 2015-01-01 to 2022-02-01 have already cloned!\n"
     ]
    },
    {
     "name": "stdout",
     "output_type": "stream",
     "text": [
      "Got 271 company\n"
     ]
    },
    {
     "name": "stderr",
     "output_type": "stream",
     "text": [
      "2022-06-18 04:12:16,190 : INFO : data PVD from 2015-01-01 to 2022-02-01 have already cloned!\n"
     ]
    },
    {
     "name": "stdout",
     "output_type": "stream",
     "text": [
      "Got 272 company\n"
     ]
    },
    {
     "name": "stderr",
     "output_type": "stream",
     "text": [
      "2022-06-18 04:12:40,645 : INFO : data PVT from 2015-01-01 to 2022-02-01 have already cloned!\n"
     ]
    },
    {
     "name": "stdout",
     "output_type": "stream",
     "text": [
      "Got 273 company\n"
     ]
    },
    {
     "name": "stderr",
     "output_type": "stream",
     "text": [
      "2022-06-18 04:13:06,569 : INFO : data PXS from 2015-01-01 to 2022-02-01 have already cloned!\n"
     ]
    },
    {
     "name": "stdout",
     "output_type": "stream",
     "text": [
      "Got 274 company\n"
     ]
    },
    {
     "name": "stderr",
     "output_type": "stream",
     "text": [
      "2022-06-18 04:13:30,624 : INFO : data QBS from 2015-01-01 to 2022-02-01 have already cloned!\n"
     ]
    },
    {
     "name": "stdout",
     "output_type": "stream",
     "text": [
      "Got 275 company\n"
     ]
    },
    {
     "name": "stderr",
     "output_type": "stream",
     "text": [
      "2022-06-18 04:13:55,546 : INFO : data QCG from 2015-01-01 to 2022-02-01 have already cloned!\n"
     ]
    },
    {
     "name": "stdout",
     "output_type": "stream",
     "text": [
      "Got 276 company\n"
     ]
    },
    {
     "name": "stderr",
     "output_type": "stream",
     "text": [
      "2022-06-18 04:14:21,175 : INFO : data RAL from 2015-01-01 to 2022-02-01 have already cloned!\n"
     ]
    },
    {
     "name": "stdout",
     "output_type": "stream",
     "text": [
      "Got 277 company\n"
     ]
    },
    {
     "name": "stderr",
     "output_type": "stream",
     "text": [
      "2022-06-18 04:14:46,167 : INFO : data RDP from 2015-01-01 to 2022-02-01 have already cloned!\n"
     ]
    },
    {
     "name": "stdout",
     "output_type": "stream",
     "text": [
      "Got 278 company\n"
     ]
    },
    {
     "name": "stderr",
     "output_type": "stream",
     "text": [
      "2022-06-18 04:15:12,663 : INFO : data REE from 2015-01-01 to 2022-02-01 have already cloned!\n"
     ]
    },
    {
     "name": "stdout",
     "output_type": "stream",
     "text": [
      "Got 279 company\n"
     ]
    },
    {
     "name": "stderr",
     "output_type": "stream",
     "text": [
      "2022-06-18 04:15:31,071 : INFO : data ROS from 2015-01-01 to 2022-02-01 have already cloned!\n"
     ]
    },
    {
     "name": "stdout",
     "output_type": "stream",
     "text": [
      "Got 280 company\n"
     ]
    },
    {
     "name": "stderr",
     "output_type": "stream",
     "text": [
      "2022-06-18 04:15:50,573 : INFO : data S4A from 2015-01-01 to 2022-02-01 have already cloned!\n"
     ]
    },
    {
     "name": "stdout",
     "output_type": "stream",
     "text": [
      "Got 281 company\n"
     ]
    },
    {
     "name": "stderr",
     "output_type": "stream",
     "text": [
      "2022-06-18 04:16:33,230 : INFO : data SAB from 2015-01-01 to 2022-02-01 have already cloned!\n"
     ]
    },
    {
     "name": "stdout",
     "output_type": "stream",
     "text": [
      "Got 282 company\n"
     ]
    },
    {
     "name": "stderr",
     "output_type": "stream",
     "text": [
      "2022-06-18 04:17:00,434 : INFO : data SAM from 2015-01-01 to 2022-02-01 have already cloned!\n"
     ]
    },
    {
     "name": "stdout",
     "output_type": "stream",
     "text": [
      "Got 283 company\n"
     ]
    },
    {
     "name": "stderr",
     "output_type": "stream",
     "text": [
      "2022-06-18 04:17:26,450 : INFO : data SAV from 2015-01-01 to 2022-02-01 have already cloned!\n"
     ]
    },
    {
     "name": "stdout",
     "output_type": "stream",
     "text": [
      "Got 284 company\n"
     ]
    },
    {
     "name": "stderr",
     "output_type": "stream",
     "text": [
      "2022-06-18 04:17:50,897 : INFO : data SBA from 2015-01-01 to 2022-02-01 have already cloned!\n"
     ]
    },
    {
     "name": "stdout",
     "output_type": "stream",
     "text": [
      "Got 285 company\n"
     ]
    },
    {
     "name": "stderr",
     "output_type": "stream",
     "text": [
      "2022-06-18 04:18:38,069 : INFO : data SBT from 2015-01-01 to 2022-02-01 have already cloned!\n"
     ]
    },
    {
     "name": "stdout",
     "output_type": "stream",
     "text": [
      "Got 286 company\n"
     ]
    },
    {
     "name": "stderr",
     "output_type": "stream",
     "text": [
      "2022-06-18 04:18:54,187 : INFO : data SBV from 2015-01-01 to 2022-02-01 have already cloned!\n"
     ]
    },
    {
     "name": "stdout",
     "output_type": "stream",
     "text": [
      "Got 287 company\n"
     ]
    },
    {
     "name": "stderr",
     "output_type": "stream",
     "text": [
      "2022-06-18 04:19:19,019 : INFO : data SC5 from 2015-01-01 to 2022-02-01 have already cloned!\n"
     ]
    },
    {
     "name": "stdout",
     "output_type": "stream",
     "text": [
      "Got 288 company\n"
     ]
    },
    {
     "name": "stderr",
     "output_type": "stream",
     "text": [
      "2022-06-18 04:19:43,918 : INFO : data SCD from 2015-01-01 to 2022-02-01 have already cloned!\n"
     ]
    },
    {
     "name": "stdout",
     "output_type": "stream",
     "text": [
      "Got 289 company\n"
     ]
    },
    {
     "name": "stderr",
     "output_type": "stream",
     "text": [
      "2022-06-18 04:20:09,348 : INFO : data SCR from 2015-01-01 to 2022-02-01 have already cloned!\n"
     ]
    },
    {
     "name": "stdout",
     "output_type": "stream",
     "text": [
      "Got 290 company\n"
     ]
    },
    {
     "name": "stderr",
     "output_type": "stream",
     "text": [
      "2022-06-18 04:20:25,483 : INFO : data SCS from 2015-01-01 to 2022-02-01 have already cloned!\n"
     ]
    },
    {
     "name": "stdout",
     "output_type": "stream",
     "text": [
      "Got 291 company\n"
     ]
    },
    {
     "name": "stderr",
     "output_type": "stream",
     "text": [
      "2022-06-18 04:20:51,663 : INFO : data SFC from 2015-01-01 to 2022-02-01 have already cloned!\n"
     ]
    },
    {
     "name": "stdout",
     "output_type": "stream",
     "text": [
      "Got 292 company\n"
     ]
    },
    {
     "name": "stderr",
     "output_type": "stream",
     "text": [
      "2022-06-18 04:21:15,901 : INFO : data SFG from 2015-01-01 to 2022-02-01 have already cloned!\n"
     ]
    },
    {
     "name": "stdout",
     "output_type": "stream",
     "text": [
      "Got 293 company\n"
     ]
    },
    {
     "name": "stderr",
     "output_type": "stream",
     "text": [
      "2022-06-18 04:21:42,089 : INFO : data SFI from 2015-01-01 to 2022-02-01 have already cloned!\n"
     ]
    },
    {
     "name": "stdout",
     "output_type": "stream",
     "text": [
      "Got 294 company\n"
     ]
    },
    {
     "name": "stderr",
     "output_type": "stream",
     "text": [
      "2022-06-18 04:22:02,988 : INFO : data SGN from 2015-01-01 to 2022-02-01 have already cloned!\n"
     ]
    },
    {
     "name": "stdout",
     "output_type": "stream",
     "text": [
      "Got 295 company\n"
     ]
    },
    {
     "name": "stderr",
     "output_type": "stream",
     "text": [
      "2022-06-18 04:22:25,700 : INFO : data SGR from 2015-01-01 to 2022-02-01 have already cloned!\n"
     ]
    },
    {
     "name": "stdout",
     "output_type": "stream",
     "text": [
      "Got 296 company\n"
     ]
    },
    {
     "name": "stderr",
     "output_type": "stream",
     "text": [
      "2022-06-18 04:22:50,410 : INFO : data SGT from 2015-01-01 to 2022-02-01 have already cloned!\n"
     ]
    },
    {
     "name": "stdout",
     "output_type": "stream",
     "text": [
      "Got 297 company\n"
     ]
    },
    {
     "name": "stderr",
     "output_type": "stream",
     "text": [
      "2022-06-18 04:23:14,967 : INFO : data SHA from 2015-01-01 to 2022-02-01 have already cloned!\n"
     ]
    },
    {
     "name": "stdout",
     "output_type": "stream",
     "text": [
      "Got 298 company\n"
     ]
    },
    {
     "name": "stderr",
     "output_type": "stream",
     "text": [
      "2022-06-18 04:23:40,157 : INFO : data SHB from 2015-01-01 to 2022-02-01 have already cloned!\n"
     ]
    },
    {
     "name": "stdout",
     "output_type": "stream",
     "text": [
      "Got 299 company\n"
     ]
    },
    {
     "name": "stderr",
     "output_type": "stream",
     "text": [
      "2022-06-18 04:24:05,048 : INFO : data SHI from 2015-01-01 to 2022-02-01 have already cloned!\n"
     ]
    },
    {
     "name": "stdout",
     "output_type": "stream",
     "text": [
      "Got 300 company\n"
     ]
    },
    {
     "name": "stderr",
     "output_type": "stream",
     "text": [
      "2022-06-18 04:24:30,137 : INFO : data SHP from 2015-01-01 to 2022-02-01 have already cloned!\n"
     ]
    },
    {
     "name": "stdout",
     "output_type": "stream",
     "text": [
      "Got 301 company\n"
     ]
    },
    {
     "name": "stderr",
     "output_type": "stream",
     "text": [
      "2022-06-18 04:24:54,782 : INFO : data SII from 2015-01-01 to 2022-02-01 have already cloned!\n"
     ]
    },
    {
     "name": "stdout",
     "output_type": "stream",
     "text": [
      "Got 302 company\n"
     ]
    },
    {
     "name": "stderr",
     "output_type": "stream",
     "text": [
      "2022-06-18 04:25:20,390 : INFO : data SJD from 2015-01-01 to 2022-02-01 have already cloned!\n"
     ]
    },
    {
     "name": "stdout",
     "output_type": "stream",
     "text": [
      "Got 303 company\n"
     ]
    },
    {
     "name": "stderr",
     "output_type": "stream",
     "text": [
      "2022-06-18 04:25:36,895 : INFO : data SJF from 2015-01-01 to 2022-02-01 have already cloned!\n"
     ]
    },
    {
     "name": "stdout",
     "output_type": "stream",
     "text": [
      "Got 304 company\n"
     ]
    },
    {
     "name": "stderr",
     "output_type": "stream",
     "text": [
      "2022-06-18 04:26:02,616 : INFO : data SJS from 2015-01-01 to 2022-02-01 have already cloned!\n"
     ]
    },
    {
     "name": "stdout",
     "output_type": "stream",
     "text": [
      "Got 305 company\n"
     ]
    },
    {
     "name": "stderr",
     "output_type": "stream",
     "text": [
      "2022-06-18 04:26:26,645 : INFO : data SKG from 2015-01-01 to 2022-02-01 have already cloned!\n"
     ]
    },
    {
     "name": "stdout",
     "output_type": "stream",
     "text": [
      "Got 306 company\n"
     ]
    },
    {
     "name": "stderr",
     "output_type": "stream",
     "text": [
      "2022-06-18 04:26:51,542 : INFO : data SMA from 2015-01-01 to 2022-02-01 have already cloned!\n"
     ]
    },
    {
     "name": "stdout",
     "output_type": "stream",
     "text": [
      "Got 307 company\n"
     ]
    },
    {
     "name": "stderr",
     "output_type": "stream",
     "text": [
      "2022-06-18 04:27:16,343 : INFO : data SMB from 2015-01-01 to 2022-02-01 have already cloned!\n"
     ]
    },
    {
     "name": "stdout",
     "output_type": "stream",
     "text": [
      "Got 308 company\n"
     ]
    },
    {
     "name": "stderr",
     "output_type": "stream",
     "text": [
      "2022-06-18 04:27:41,520 : INFO : data SMC from 2015-01-01 to 2022-02-01 have already cloned!\n"
     ]
    },
    {
     "name": "stdout",
     "output_type": "stream",
     "text": [
      "Got 309 company\n"
     ]
    },
    {
     "name": "stderr",
     "output_type": "stream",
     "text": [
      "2022-06-18 04:28:06,596 : INFO : data SPM from 2015-01-01 to 2022-02-01 have already cloned!\n"
     ]
    },
    {
     "name": "stdout",
     "output_type": "stream",
     "text": [
      "Got 310 company\n"
     ]
    },
    {
     "name": "stderr",
     "output_type": "stream",
     "text": [
      "2022-06-18 04:28:32,145 : INFO : data SRC from 2015-01-01 to 2022-02-01 have already cloned!\n"
     ]
    },
    {
     "name": "stdout",
     "output_type": "stream",
     "text": [
      "Got 311 company\n"
     ]
    },
    {
     "name": "stderr",
     "output_type": "stream",
     "text": [
      "2022-06-18 04:28:57,388 : INFO : data SRF from 2015-01-01 to 2022-02-01 have already cloned!\n"
     ]
    },
    {
     "name": "stdout",
     "output_type": "stream",
     "text": [
      "Got 312 company\n"
     ]
    },
    {
     "name": "stderr",
     "output_type": "stream",
     "text": [
      "2022-06-18 04:29:00,639 : INFO : data SSB from 2015-01-01 to 2022-02-01 have already cloned!\n"
     ]
    },
    {
     "name": "stdout",
     "output_type": "stream",
     "text": [
      "Got 313 company\n"
     ]
    },
    {
     "name": "stderr",
     "output_type": "stream",
     "text": [
      "2022-06-18 04:29:26,927 : INFO : data SSC from 2015-01-01 to 2022-02-01 have already cloned!\n"
     ]
    },
    {
     "name": "stdout",
     "output_type": "stream",
     "text": [
      "Got 314 company\n"
     ]
    },
    {
     "name": "stderr",
     "output_type": "stream",
     "text": [
      "2022-06-18 04:29:52,405 : INFO : data SSI from 2015-01-01 to 2022-02-01 have already cloned!\n"
     ]
    },
    {
     "name": "stdout",
     "output_type": "stream",
     "text": [
      "Got 315 company\n"
     ]
    },
    {
     "name": "stderr",
     "output_type": "stream",
     "text": [
      "2022-06-18 04:30:17,981 : INFO : data ST8 from 2015-01-01 to 2022-02-01 have already cloned!\n"
     ]
    },
    {
     "name": "stdout",
     "output_type": "stream",
     "text": [
      "Got 316 company\n"
     ]
    },
    {
     "name": "stderr",
     "output_type": "stream",
     "text": [
      "2022-06-18 04:30:44,458 : INFO : data STB from 2015-01-01 to 2022-02-01 have already cloned!\n"
     ]
    },
    {
     "name": "stdout",
     "output_type": "stream",
     "text": [
      "Got 317 company\n"
     ]
    },
    {
     "name": "stderr",
     "output_type": "stream",
     "text": [
      "2022-06-18 04:31:13,546 : INFO : data STG from 2015-01-01 to 2022-02-01 have already cloned!\n"
     ]
    },
    {
     "name": "stdout",
     "output_type": "stream",
     "text": [
      "Got 318 company\n"
     ]
    },
    {
     "name": "stderr",
     "output_type": "stream",
     "text": [
      "2022-06-18 04:31:35,397 : INFO : data STK from 2015-01-01 to 2022-02-01 have already cloned!\n"
     ]
    },
    {
     "name": "stdout",
     "output_type": "stream",
     "text": [
      "Got 319 company\n"
     ]
    },
    {
     "name": "stderr",
     "output_type": "stream",
     "text": [
      "2022-06-18 04:32:02,278 : INFO : data SVC from 2015-01-01 to 2022-02-01 have already cloned!\n"
     ]
    },
    {
     "name": "stdout",
     "output_type": "stream",
     "text": [
      "Got 320 company\n"
     ]
    },
    {
     "name": "stderr",
     "output_type": "stream",
     "text": [
      "2022-06-18 04:32:06,123 : INFO : data SVD from 2015-01-01 to 2022-02-01 have already cloned!\n"
     ]
    },
    {
     "name": "stdout",
     "output_type": "stream",
     "text": [
      "Got 321 company\n"
     ]
    },
    {
     "name": "stderr",
     "output_type": "stream",
     "text": [
      "2022-06-18 04:32:31,907 : INFO : data SVI from 2015-01-01 to 2022-02-01 have already cloned!\n"
     ]
    },
    {
     "name": "stdout",
     "output_type": "stream",
     "text": [
      "Got 322 company\n"
     ]
    },
    {
     "name": "stderr",
     "output_type": "stream",
     "text": [
      "2022-06-18 04:32:57,022 : INFO : data SVT from 2015-01-01 to 2022-02-01 have already cloned!\n"
     ]
    },
    {
     "name": "stdout",
     "output_type": "stream",
     "text": [
      "Got 323 company\n"
     ]
    },
    {
     "name": "stderr",
     "output_type": "stream",
     "text": [
      "2022-06-18 04:33:08,076 : INFO : data SZC from 2015-01-01 to 2022-02-01 have already cloned!\n"
     ]
    },
    {
     "name": "stdout",
     "output_type": "stream",
     "text": [
      "Got 324 company\n"
     ]
    },
    {
     "name": "stderr",
     "output_type": "stream",
     "text": [
      "2022-06-18 04:33:33,382 : INFO : data SZL from 2015-01-01 to 2022-02-01 have already cloned!\n"
     ]
    },
    {
     "name": "stdout",
     "output_type": "stream",
     "text": [
      "Got 325 company\n"
     ]
    },
    {
     "name": "stderr",
     "output_type": "stream",
     "text": [
      "2022-06-18 04:33:59,653 : INFO : data TBC from 2015-01-01 to 2022-02-01 have already cloned!\n"
     ]
    },
    {
     "name": "stdout",
     "output_type": "stream",
     "text": [
      "Got 326 company\n"
     ]
    },
    {
     "name": "stderr",
     "output_type": "stream",
     "text": [
      "2022-06-18 04:34:12,529 : INFO : data TCB from 2015-01-01 to 2022-02-01 have already cloned!\n"
     ]
    },
    {
     "name": "stdout",
     "output_type": "stream",
     "text": [
      "Got 327 company\n"
     ]
    },
    {
     "name": "stderr",
     "output_type": "stream",
     "text": [
      "2022-06-18 04:34:28,890 : INFO : data TCD from 2015-01-01 to 2022-02-01 have already cloned!\n"
     ]
    },
    {
     "name": "stdout",
     "output_type": "stream",
     "text": [
      "Got 328 company\n"
     ]
    },
    {
     "name": "stderr",
     "output_type": "stream",
     "text": [
      "2022-06-18 04:34:47,662 : INFO : data TCH from 2015-01-01 to 2022-02-01 have already cloned!\n"
     ]
    },
    {
     "name": "stdout",
     "output_type": "stream",
     "text": [
      "Got 329 company\n"
     ]
    },
    {
     "name": "stderr",
     "output_type": "stream",
     "text": [
      "2022-06-18 04:35:13,053 : INFO : data TCL from 2015-01-01 to 2022-02-01 have already cloned!\n"
     ]
    },
    {
     "name": "stdout",
     "output_type": "stream",
     "text": [
      "Got 330 company\n"
     ]
    },
    {
     "name": "stderr",
     "output_type": "stream",
     "text": [
      "2022-06-18 04:35:39,534 : INFO : data TCM from 2015-01-01 to 2022-02-01 have already cloned!\n"
     ]
    },
    {
     "name": "stdout",
     "output_type": "stream",
     "text": [
      "Got 331 company\n"
     ]
    },
    {
     "name": "stderr",
     "output_type": "stream",
     "text": [
      "2022-06-18 04:36:05,115 : INFO : data TCO from 2015-01-01 to 2022-02-01 have already cloned!\n"
     ]
    },
    {
     "name": "stdout",
     "output_type": "stream",
     "text": [
      "Got 332 company\n"
     ]
    },
    {
     "name": "stderr",
     "output_type": "stream",
     "text": [
      "2022-06-18 04:36:30,728 : INFO : data TCR from 2015-01-01 to 2022-02-01 have already cloned!\n"
     ]
    },
    {
     "name": "stdout",
     "output_type": "stream",
     "text": [
      "Got 333 company\n"
     ]
    },
    {
     "name": "stderr",
     "output_type": "stream",
     "text": [
      "2022-06-18 04:36:55,779 : INFO : data TCT from 2015-01-01 to 2022-02-01 have already cloned!\n"
     ]
    },
    {
     "name": "stdout",
     "output_type": "stream",
     "text": [
      "Got 334 company\n"
     ]
    },
    {
     "name": "stderr",
     "output_type": "stream",
     "text": [
      "2022-06-18 04:37:21,383 : INFO : data TDC from 2015-01-01 to 2022-02-01 have already cloned!\n"
     ]
    },
    {
     "name": "stdout",
     "output_type": "stream",
     "text": [
      "Got 335 company\n"
     ]
    },
    {
     "name": "stderr",
     "output_type": "stream",
     "text": [
      "2022-06-18 04:37:37,449 : INFO : data TDG from 2015-01-01 to 2022-02-01 have already cloned!\n"
     ]
    },
    {
     "name": "stdout",
     "output_type": "stream",
     "text": [
      "Got 336 company\n"
     ]
    },
    {
     "name": "stderr",
     "output_type": "stream",
     "text": [
      "2022-06-18 04:38:02,912 : INFO : data TDH from 2015-01-01 to 2022-02-01 have already cloned!\n"
     ]
    },
    {
     "name": "stdout",
     "output_type": "stream",
     "text": [
      "Got 337 company\n"
     ]
    },
    {
     "name": "stderr",
     "output_type": "stream",
     "text": [
      "2022-06-18 04:38:22,771 : INFO : data TDM from 2015-01-01 to 2022-02-01 have already cloned!\n"
     ]
    },
    {
     "name": "stdout",
     "output_type": "stream",
     "text": [
      "Got 338 company\n"
     ]
    },
    {
     "name": "stderr",
     "output_type": "stream",
     "text": [
      "2022-06-18 04:38:33,347 : INFO : data TDP from 2015-01-01 to 2022-02-01 have already cloned!\n"
     ]
    },
    {
     "name": "stdout",
     "output_type": "stream",
     "text": [
      "Got 339 company\n"
     ]
    },
    {
     "name": "stderr",
     "output_type": "stream",
     "text": [
      "2022-06-18 04:38:59,167 : INFO : data TDW from 2015-01-01 to 2022-02-01 have already cloned!\n"
     ]
    },
    {
     "name": "stdout",
     "output_type": "stream",
     "text": [
      "Got 340 company\n"
     ]
    },
    {
     "name": "stderr",
     "output_type": "stream",
     "text": [
      "2022-06-18 04:39:20,121 : INFO : data TEG from 2015-01-01 to 2022-02-01 have already cloned!\n"
     ]
    },
    {
     "name": "stdout",
     "output_type": "stream",
     "text": [
      "Got 341 company\n"
     ]
    },
    {
     "name": "stderr",
     "output_type": "stream",
     "text": [
      "2022-06-18 04:39:33,227 : INFO : data TGG from 2015-01-01 to 2022-02-01 have already cloned!\n"
     ]
    },
    {
     "name": "stdout",
     "output_type": "stream",
     "text": [
      "Got 342 company\n"
     ]
    },
    {
     "name": "stderr",
     "output_type": "stream",
     "text": [
      "2022-06-18 04:39:57,834 : INFO : data THG from 2015-01-01 to 2022-02-01 have already cloned!\n"
     ]
    },
    {
     "name": "stdout",
     "output_type": "stream",
     "text": [
      "Got 343 company\n"
     ]
    },
    {
     "name": "stderr",
     "output_type": "stream",
     "text": [
      "2022-06-18 04:40:14,001 : INFO : data THI from 2015-01-01 to 2022-02-01 have already cloned!\n"
     ]
    },
    {
     "name": "stdout",
     "output_type": "stream",
     "text": [
      "Got 344 company\n"
     ]
    },
    {
     "name": "stderr",
     "output_type": "stream",
     "text": [
      "2022-06-18 04:40:34,388 : INFO : data TIP from 2015-01-01 to 2022-02-01 have already cloned!\n"
     ]
    },
    {
     "name": "stdout",
     "output_type": "stream",
     "text": [
      "Got 345 company\n"
     ]
    },
    {
     "name": "stderr",
     "output_type": "stream",
     "text": [
      "2022-06-18 04:40:59,319 : INFO : data TIX from 2015-01-01 to 2022-02-01 have already cloned!\n"
     ]
    },
    {
     "name": "stdout",
     "output_type": "stream",
     "text": [
      "Got 346 company\n"
     ]
    },
    {
     "name": "stderr",
     "output_type": "stream",
     "text": [
      "2022-06-18 04:41:14,090 : INFO : data TLD from 2015-01-01 to 2022-02-01 have already cloned!\n"
     ]
    },
    {
     "name": "stdout",
     "output_type": "stream",
     "text": [
      "Got 347 company\n"
     ]
    },
    {
     "name": "stderr",
     "output_type": "stream",
     "text": [
      "2022-06-18 04:41:38,927 : INFO : data TLG from 2015-01-01 to 2022-02-01 have already cloned!\n"
     ]
    },
    {
     "name": "stdout",
     "output_type": "stream",
     "text": [
      "Got 348 company\n"
     ]
    },
    {
     "name": "stderr",
     "output_type": "stream",
     "text": [
      "2022-06-18 04:42:04,084 : INFO : data TLH from 2015-01-01 to 2022-02-01 have already cloned!\n"
     ]
    },
    {
     "name": "stdout",
     "output_type": "stream",
     "text": [
      "Got 349 company\n"
     ]
    },
    {
     "name": "stderr",
     "output_type": "stream",
     "text": [
      "2022-06-18 04:42:28,906 : INFO : data TMP from 2015-01-01 to 2022-02-01 have already cloned!\n"
     ]
    },
    {
     "name": "stdout",
     "output_type": "stream",
     "text": [
      "Got 350 company\n"
     ]
    },
    {
     "name": "stderr",
     "output_type": "stream",
     "text": [
      "2022-06-18 04:42:55,320 : INFO : data TMS from 2015-01-01 to 2022-02-01 have already cloned!\n"
     ]
    },
    {
     "name": "stdout",
     "output_type": "stream",
     "text": [
      "Got 351 company\n"
     ]
    },
    {
     "name": "stderr",
     "output_type": "stream",
     "text": [
      "2022-06-18 04:43:20,376 : INFO : data TMT from 2015-01-01 to 2022-02-01 have already cloned!\n"
     ]
    },
    {
     "name": "stdout",
     "output_type": "stream",
     "text": [
      "Got 352 company\n"
     ]
    },
    {
     "name": "stderr",
     "output_type": "stream",
     "text": [
      "2022-06-18 04:43:29,907 : INFO : data TN1 from 2015-01-01 to 2022-02-01 have already cloned!\n"
     ]
    },
    {
     "name": "stdout",
     "output_type": "stream",
     "text": [
      "Got 353 company\n"
     ]
    },
    {
     "name": "stderr",
     "output_type": "stream",
     "text": [
      "2022-06-18 04:43:56,406 : INFO : data TNA from 2015-01-01 to 2022-02-01 have already cloned!\n"
     ]
    },
    {
     "name": "stdout",
     "output_type": "stream",
     "text": [
      "Got 354 company\n"
     ]
    },
    {
     "name": "stderr",
     "output_type": "stream",
     "text": [
      "2022-06-18 04:44:22,264 : INFO : data TNC from 2015-01-01 to 2022-02-01 have already cloned!\n"
     ]
    },
    {
     "name": "stdout",
     "output_type": "stream",
     "text": [
      "Got 355 company\n"
     ]
    },
    {
     "name": "stderr",
     "output_type": "stream",
     "text": [
      "2022-06-18 04:44:25,968 : INFO : data TNH from 2015-01-01 to 2022-02-01 have already cloned!\n"
     ]
    },
    {
     "name": "stdout",
     "output_type": "stream",
     "text": [
      "Got 356 company\n"
     ]
    },
    {
     "name": "stderr",
     "output_type": "stream",
     "text": [
      "2022-06-18 04:44:42,931 : INFO : data TNI from 2015-01-01 to 2022-02-01 have already cloned!\n"
     ]
    },
    {
     "name": "stdout",
     "output_type": "stream",
     "text": [
      "Got 357 company\n"
     ]
    },
    {
     "name": "stderr",
     "output_type": "stream",
     "text": [
      "2022-06-18 04:45:08,451 : INFO : data TNT from 2015-01-01 to 2022-02-01 have already cloned!\n"
     ]
    },
    {
     "name": "stdout",
     "output_type": "stream",
     "text": [
      "Got 358 company\n"
     ]
    },
    {
     "name": "stderr",
     "output_type": "stream",
     "text": [
      "2022-06-18 04:45:21,793 : INFO : data TPB from 2015-01-01 to 2022-02-01 have already cloned!\n"
     ]
    },
    {
     "name": "stdout",
     "output_type": "stream",
     "text": [
      "Got 359 company\n"
     ]
    },
    {
     "name": "stderr",
     "output_type": "stream",
     "text": [
      "2022-06-18 04:45:47,637 : INFO : data TPC from 2015-01-01 to 2022-02-01 have already cloned!\n"
     ]
    },
    {
     "name": "stdout",
     "output_type": "stream",
     "text": [
      "Got 360 company\n"
     ]
    },
    {
     "name": "stderr",
     "output_type": "stream",
     "text": [
      "2022-06-18 04:46:14,573 : INFO : data TRA from 2015-01-01 to 2022-02-01 have already cloned!\n"
     ]
    },
    {
     "name": "stdout",
     "output_type": "stream",
     "text": [
      "Got 361 company\n"
     ]
    },
    {
     "name": "stderr",
     "output_type": "stream",
     "text": [
      "2022-06-18 04:46:41,281 : INFO : data TRC from 2015-01-01 to 2022-02-01 have already cloned!\n"
     ]
    },
    {
     "name": "stdout",
     "output_type": "stream",
     "text": [
      "Got 362 company\n"
     ]
    },
    {
     "name": "stderr",
     "output_type": "stream",
     "text": [
      "2022-06-18 04:47:06,959 : INFO : data TSC from 2015-01-01 to 2022-02-01 have already cloned!\n"
     ]
    },
    {
     "name": "stdout",
     "output_type": "stream",
     "text": [
      "Got 363 company\n"
     ]
    },
    {
     "name": "stderr",
     "output_type": "stream",
     "text": [
      "2022-06-18 04:47:11,967 : INFO : data TTA from 2015-01-01 to 2022-02-01 have already cloned!\n"
     ]
    },
    {
     "name": "stdout",
     "output_type": "stream",
     "text": [
      "Got 364 company\n"
     ]
    },
    {
     "name": "stderr",
     "output_type": "stream",
     "text": [
      "2022-06-18 04:48:07,825 : INFO : data TTB from 2015-01-01 to 2022-02-01 have already cloned!\n"
     ]
    },
    {
     "name": "stdout",
     "output_type": "stream",
     "text": [
      "Got 365 company\n"
     ]
    },
    {
     "name": "stderr",
     "output_type": "stream",
     "text": [
      "2022-06-18 04:48:18,452 : INFO : data TTE from 2015-01-01 to 2022-02-01 have already cloned!\n"
     ]
    },
    {
     "name": "stdout",
     "output_type": "stream",
     "text": [
      "Got 366 company\n"
     ]
    },
    {
     "name": "stderr",
     "output_type": "stream",
     "text": [
      "2022-06-18 04:49:13,613 : INFO : data TTF from 2015-01-01 to 2022-02-01 have already cloned!\n"
     ]
    },
    {
     "name": "stdout",
     "output_type": "stream",
     "text": [
      "Got 367 company\n"
     ]
    },
    {
     "name": "stderr",
     "output_type": "stream",
     "text": [
      "2022-06-18 04:49:38,268 : INFO : data TV2 from 2015-01-01 to 2022-02-01 have already cloned!\n"
     ]
    },
    {
     "name": "stdout",
     "output_type": "stream",
     "text": [
      "Got 368 company\n"
     ]
    },
    {
     "name": "stderr",
     "output_type": "stream",
     "text": [
      "2022-06-18 04:50:00,187 : INFO : data TVB from 2015-01-01 to 2022-02-01 have already cloned!\n"
     ]
    },
    {
     "name": "stdout",
     "output_type": "stream",
     "text": [
      "Got 369 company\n"
     ]
    },
    {
     "name": "stderr",
     "output_type": "stream",
     "text": [
      "2022-06-18 04:50:24,023 : INFO : data TVS from 2015-01-01 to 2022-02-01 have already cloned!\n"
     ]
    },
    {
     "name": "stdout",
     "output_type": "stream",
     "text": [
      "Got 370 company\n"
     ]
    },
    {
     "name": "stderr",
     "output_type": "stream",
     "text": [
      "2022-06-18 04:50:40,496 : INFO : data TVT from 2015-01-01 to 2022-02-01 have already cloned!\n"
     ]
    },
    {
     "name": "stdout",
     "output_type": "stream",
     "text": [
      "Got 371 company\n"
     ]
    },
    {
     "name": "stderr",
     "output_type": "stream",
     "text": [
      "2022-06-18 04:51:07,677 : INFO : data TYA from 2015-01-01 to 2022-02-01 have already cloned!\n"
     ]
    },
    {
     "name": "stdout",
     "output_type": "stream",
     "text": [
      "Got 372 company\n"
     ]
    },
    {
     "name": "stderr",
     "output_type": "stream",
     "text": [
      "2022-06-18 04:51:33,081 : INFO : data UDC from 2015-01-01 to 2022-02-01 have already cloned!\n"
     ]
    },
    {
     "name": "stdout",
     "output_type": "stream",
     "text": [
      "Got 373 company\n"
     ]
    },
    {
     "name": "stderr",
     "output_type": "stream",
     "text": [
      "2022-06-18 04:51:58,745 : INFO : data UIC from 2015-01-01 to 2022-02-01 have already cloned!\n"
     ]
    },
    {
     "name": "stdout",
     "output_type": "stream",
     "text": [
      "Got 374 company\n"
     ]
    },
    {
     "name": "stderr",
     "output_type": "stream",
     "text": [
      "2022-06-18 04:52:21,929 : INFO : data VAF from 2015-01-01 to 2022-02-01 have already cloned!\n"
     ]
    },
    {
     "name": "stdout",
     "output_type": "stream",
     "text": [
      "Got 375 company\n"
     ]
    },
    {
     "name": "stderr",
     "output_type": "stream",
     "text": [
      "2022-06-18 04:52:46,519 : INFO : data VCA from 2015-01-01 to 2022-02-01 have already cloned!\n"
     ]
    },
    {
     "name": "stdout",
     "output_type": "stream",
     "text": [
      "Got 376 company\n"
     ]
    },
    {
     "name": "stderr",
     "output_type": "stream",
     "text": [
      "2022-06-18 04:53:11,965 : INFO : data VCB from 2015-01-01 to 2022-02-01 have already cloned!\n"
     ]
    },
    {
     "name": "stdout",
     "output_type": "stream",
     "text": [
      "Got 377 company\n"
     ]
    },
    {
     "name": "stderr",
     "output_type": "stream",
     "text": [
      "2022-06-18 04:53:37,094 : INFO : data VCF from 2015-01-01 to 2022-02-01 have already cloned!\n"
     ]
    },
    {
     "name": "stdout",
     "output_type": "stream",
     "text": [
      "Got 378 company\n"
     ]
    },
    {
     "name": "stderr",
     "output_type": "stream",
     "text": [
      "2022-06-18 04:54:06,048 : INFO : data VCG from 2015-01-01 to 2022-02-01 have already cloned!\n"
     ]
    },
    {
     "name": "stdout",
     "output_type": "stream",
     "text": [
      "Got 379 company\n"
     ]
    },
    {
     "name": "stderr",
     "output_type": "stream",
     "text": [
      "2022-06-18 04:54:23,653 : INFO : data VCI from 2015-01-01 to 2022-02-01 have already cloned!\n"
     ]
    },
    {
     "name": "stdout",
     "output_type": "stream",
     "text": [
      "Got 380 company\n"
     ]
    },
    {
     "name": "stderr",
     "output_type": "stream",
     "text": [
      "2022-06-18 04:54:39,351 : INFO : data VDP from 2015-01-01 to 2022-02-01 have already cloned!\n"
     ]
    },
    {
     "name": "stdout",
     "output_type": "stream",
     "text": [
      "Got 381 company\n"
     ]
    },
    {
     "name": "stderr",
     "output_type": "stream",
     "text": [
      "2022-06-18 04:55:04,317 : INFO : data VDS from 2015-01-01 to 2022-02-01 have already cloned!\n"
     ]
    },
    {
     "name": "stdout",
     "output_type": "stream",
     "text": [
      "Got 382 company\n"
     ]
    },
    {
     "name": "stderr",
     "output_type": "stream",
     "text": [
      "2022-06-18 04:55:30,284 : INFO : data VFG from 2015-01-01 to 2022-02-01 have already cloned!\n"
     ]
    },
    {
     "name": "stdout",
     "output_type": "stream",
     "text": [
      "Got 383 company\n"
     ]
    },
    {
     "name": "stderr",
     "output_type": "stream",
     "text": [
      "2022-06-18 04:55:51,702 : INFO : data VGC from 2015-01-01 to 2022-02-01 have already cloned!\n"
     ]
    },
    {
     "name": "stdout",
     "output_type": "stream",
     "text": [
      "Got 384 company\n"
     ]
    },
    {
     "name": "stderr",
     "output_type": "stream",
     "text": [
      "2022-06-18 04:56:17,784 : INFO : data VHC from 2015-01-01 to 2022-02-01 have already cloned!\n"
     ]
    },
    {
     "name": "stdout",
     "output_type": "stream",
     "text": [
      "Got 385 company\n"
     ]
    },
    {
     "name": "stderr",
     "output_type": "stream",
     "text": [
      "2022-06-18 04:56:30,802 : INFO : data VHM from 2015-01-01 to 2022-02-01 have already cloned!\n"
     ]
    },
    {
     "name": "stdout",
     "output_type": "stream",
     "text": [
      "Got 386 company\n"
     ]
    },
    {
     "name": "stderr",
     "output_type": "stream",
     "text": [
      "2022-06-18 04:56:48,705 : INFO : data VIB from 2015-01-01 to 2022-02-01 have already cloned!\n"
     ]
    },
    {
     "name": "stdout",
     "output_type": "stream",
     "text": [
      "Got 387 company\n"
     ]
    },
    {
     "name": "stderr",
     "output_type": "stream",
     "text": [
      "2022-06-18 04:57:14,784 : INFO : data VIC from 2015-01-01 to 2022-02-01 have already cloned!\n"
     ]
    },
    {
     "name": "stdout",
     "output_type": "stream",
     "text": [
      "Got 388 company\n"
     ]
    },
    {
     "name": "stderr",
     "output_type": "stream",
     "text": [
      "2022-06-18 04:57:40,431 : INFO : data VID from 2015-01-01 to 2022-02-01 have already cloned!\n"
     ]
    },
    {
     "name": "stdout",
     "output_type": "stream",
     "text": [
      "Got 389 company\n"
     ]
    },
    {
     "name": "stderr",
     "output_type": "stream",
     "text": [
      "2022-06-18 04:58:05,896 : INFO : data VIP from 2015-01-01 to 2022-02-01 have already cloned!\n"
     ]
    },
    {
     "name": "stdout",
     "output_type": "stream",
     "text": [
      "Got 390 company\n"
     ]
    },
    {
     "name": "stderr",
     "output_type": "stream",
     "text": [
      "2022-06-18 04:58:30,554 : INFO : data VIX from 2015-01-01 to 2022-02-01 have already cloned!\n"
     ]
    },
    {
     "name": "stdout",
     "output_type": "stream",
     "text": [
      "Got 391 company\n"
     ]
    },
    {
     "name": "stderr",
     "output_type": "stream",
     "text": [
      "2022-06-18 04:58:47,817 : INFO : data VJC from 2015-01-01 to 2022-02-01 have already cloned!\n"
     ]
    },
    {
     "name": "stdout",
     "output_type": "stream",
     "text": [
      "Got 392 company\n"
     ]
    },
    {
     "name": "stderr",
     "output_type": "stream",
     "text": [
      "2022-06-18 04:59:13,530 : INFO : data VMD from 2015-01-01 to 2022-02-01 have already cloned!\n"
     ]
    },
    {
     "name": "stdout",
     "output_type": "stream",
     "text": [
      "Got 393 company\n"
     ]
    },
    {
     "name": "stderr",
     "output_type": "stream",
     "text": [
      "2022-06-18 04:59:38,161 : INFO : data VND from 2015-01-01 to 2022-02-01 have already cloned!\n"
     ]
    },
    {
     "name": "stdout",
     "output_type": "stream",
     "text": [
      "Got 394 company\n"
     ]
    },
    {
     "name": "stderr",
     "output_type": "stream",
     "text": [
      "2022-06-18 05:00:04,117 : INFO : data VNE from 2015-01-01 to 2022-02-01 have already cloned!\n"
     ]
    },
    {
     "name": "stdout",
     "output_type": "stream",
     "text": [
      "Got 395 company\n"
     ]
    },
    {
     "name": "stderr",
     "output_type": "stream",
     "text": [
      "2022-06-18 05:00:29,072 : INFO : data VNG from 2015-01-01 to 2022-02-01 have already cloned!\n"
     ]
    },
    {
     "name": "stdout",
     "output_type": "stream",
     "text": [
      "Got 396 company\n"
     ]
    },
    {
     "name": "stderr",
     "output_type": "stream",
     "text": [
      "2022-06-18 05:00:54,855 : INFO : data VNL from 2015-01-01 to 2022-02-01 have already cloned!\n"
     ]
    },
    {
     "name": "stdout",
     "output_type": "stream",
     "text": [
      "Got 397 company\n"
     ]
    },
    {
     "name": "stderr",
     "output_type": "stream",
     "text": [
      "2022-06-18 05:01:22,824 : INFO : data VNM from 2015-01-01 to 2022-02-01 have already cloned!\n"
     ]
    },
    {
     "name": "stdout",
     "output_type": "stream",
     "text": [
      "Got 398 company\n"
     ]
    },
    {
     "name": "stderr",
     "output_type": "stream",
     "text": [
      "2022-06-18 05:01:49,173 : INFO : data VNS from 2015-01-01 to 2022-02-01 have already cloned!\n"
     ]
    },
    {
     "name": "stdout",
     "output_type": "stream",
     "text": [
      "Got 399 company\n"
     ]
    },
    {
     "name": "stderr",
     "output_type": "stream",
     "text": [
      "2022-06-18 05:02:14,146 : INFO : data VOS from 2015-01-01 to 2022-02-01 have already cloned!\n"
     ]
    },
    {
     "name": "stdout",
     "output_type": "stream",
     "text": [
      "Got 400 company\n"
     ]
    },
    {
     "name": "stderr",
     "output_type": "stream",
     "text": [
      "2022-06-18 05:02:30,023 : INFO : data VPB from 2015-01-01 to 2022-02-01 have already cloned!\n"
     ]
    },
    {
     "name": "stdout",
     "output_type": "stream",
     "text": [
      "Got 401 company\n"
     ]
    },
    {
     "name": "stderr",
     "output_type": "stream",
     "text": [
      "2022-06-18 05:02:50,517 : INFO : data VPD from 2015-01-01 to 2022-02-01 have already cloned!\n"
     ]
    },
    {
     "name": "stdout",
     "output_type": "stream",
     "text": [
      "Got 402 company\n"
     ]
    },
    {
     "name": "stderr",
     "output_type": "stream",
     "text": [
      "2022-06-18 05:03:04,716 : INFO : data VPG from 2015-01-01 to 2022-02-01 have already cloned!\n"
     ]
    },
    {
     "name": "stdout",
     "output_type": "stream",
     "text": [
      "Got 403 company\n"
     ]
    },
    {
     "name": "stderr",
     "output_type": "stream",
     "text": [
      "2022-06-18 05:03:30,124 : INFO : data VPH from 2015-01-01 to 2022-02-01 have already cloned!\n"
     ]
    },
    {
     "name": "stdout",
     "output_type": "stream",
     "text": [
      "Got 404 company\n"
     ]
    },
    {
     "name": "stderr",
     "output_type": "stream",
     "text": [
      "2022-06-18 05:03:44,154 : INFO : data VPI from 2015-01-01 to 2022-02-01 have already cloned!\n"
     ]
    },
    {
     "name": "stdout",
     "output_type": "stream",
     "text": [
      "Got 405 company\n"
     ]
    },
    {
     "name": "stderr",
     "output_type": "stream",
     "text": [
      "2022-06-18 05:04:07,128 : INFO : data VPS from 2015-01-01 to 2022-02-01 have already cloned!\n"
     ]
    },
    {
     "name": "stdout",
     "output_type": "stream",
     "text": [
      "Got 406 company\n"
     ]
    },
    {
     "name": "stderr",
     "output_type": "stream",
     "text": [
      "2022-06-18 05:04:32,361 : INFO : data VRC from 2015-01-01 to 2022-02-01 have already cloned!\n"
     ]
    },
    {
     "name": "stdout",
     "output_type": "stream",
     "text": [
      "Got 407 company\n"
     ]
    },
    {
     "name": "stderr",
     "output_type": "stream",
     "text": [
      "2022-06-18 05:04:47,159 : INFO : data VRE from 2015-01-01 to 2022-02-01 have already cloned!\n"
     ]
    },
    {
     "name": "stdout",
     "output_type": "stream",
     "text": [
      "Got 408 company\n"
     ]
    },
    {
     "name": "stderr",
     "output_type": "stream",
     "text": [
      "2022-06-18 05:05:13,221 : INFO : data VSC from 2015-01-01 to 2022-02-01 have already cloned!\n"
     ]
    },
    {
     "name": "stdout",
     "output_type": "stream",
     "text": [
      "Got 409 company\n"
     ]
    },
    {
     "name": "stderr",
     "output_type": "stream",
     "text": [
      "2022-06-18 05:05:40,202 : INFO : data VSH from 2015-01-01 to 2022-02-01 have already cloned!\n"
     ]
    },
    {
     "name": "stdout",
     "output_type": "stream",
     "text": [
      "Got 410 company\n"
     ]
    },
    {
     "name": "stderr",
     "output_type": "stream",
     "text": [
      "2022-06-18 05:06:05,640 : INFO : data VSI from 2015-01-01 to 2022-02-01 have already cloned!\n"
     ]
    },
    {
     "name": "stdout",
     "output_type": "stream",
     "text": [
      "Got 411 company\n"
     ]
    },
    {
     "name": "stderr",
     "output_type": "stream",
     "text": [
      "2022-06-18 05:06:31,801 : INFO : data VTB from 2015-01-01 to 2022-02-01 have already cloned!\n"
     ]
    },
    {
     "name": "stdout",
     "output_type": "stream",
     "text": [
      "Got 412 company\n"
     ]
    },
    {
     "name": "stderr",
     "output_type": "stream",
     "text": [
      "2022-06-18 05:06:57,484 : INFO : data VTO from 2015-01-01 to 2022-02-01 have already cloned!\n"
     ]
    },
    {
     "name": "stdout",
     "output_type": "stream",
     "text": [
      "Got 413 company\n"
     ]
    },
    {
     "name": "stderr",
     "output_type": "stream",
     "text": [
      "2022-06-18 05:07:09,865 : INFO : data YBM from 2015-01-01 to 2022-02-01 have already cloned!\n"
     ]
    },
    {
     "name": "stdout",
     "output_type": "stream",
     "text": [
      "Got 414 company\n"
     ]
    },
    {
     "name": "stderr",
     "output_type": "stream",
     "text": [
      "2022-06-18 05:07:22,756 : INFO : data YEG from 2015-01-01 to 2022-02-01 have already cloned!\n"
     ]
    },
    {
     "name": "stdout",
     "output_type": "stream",
     "text": [
      "Got 415 company\n"
     ]
    }
   ],
   "source": [
    "#Extract price from year 2015 to year 2022 of all company from ticker list \n",
    "from vnquant import data as dt\n",
    "for i in range(len(ticker_list)):\n",
    "    try:\n",
    "        loader = dt.DataLoader(ticker_list[i], '2015-01-01','2022-02-01')\n",
    "        price = loader.download()\n",
    "        price.to_excel(f'data/price/{name_list[i]}.xlsx')\n",
    "    except:\n",
    "        pass\n",
    "    print(f'Got {i+1} company')"
   ]
  },
  {
   "cell_type": "code",
   "execution_count": null,
   "metadata": {},
   "outputs": [],
   "source": []
  }
 ],
 "metadata": {
  "kernelspec": {
   "display_name": "Python 3 (ipykernel)",
   "language": "python",
   "name": "python3"
  },
  "language_info": {
   "codemirror_mode": {
    "name": "ipython",
    "version": 3
   },
   "file_extension": ".py",
   "mimetype": "text/x-python",
   "name": "python",
   "nbconvert_exporter": "python",
   "pygments_lexer": "ipython3",
   "version": "3.9.7"
  },
  "vscode": {
   "interpreter": {
    "hash": "27fc039f5f8def17f1db4787abd03124ed8adbe3f3a3dc74a1e6843af239f8f0"
   }
  }
 },
 "nbformat": 4,
 "nbformat_minor": 2
}
